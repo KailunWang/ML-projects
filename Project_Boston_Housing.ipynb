{
 "cells": [
  {
   "cell_type": "code",
   "execution_count": 1,
   "metadata": {
    "collapsed": true
   },
   "outputs": [],
   "source": [
    "# Outline(Map):\n",
    "\n",
    "# Step 0: Getting Started (Introduction on the project and data) ;\n",
    "# Step 1: Data Exploration; \n",
    "# ~~~~~~~~Step 1.2-Implementation: calculate statistics;\n",
    "# ~~~~~~~~Step 1.3-Question 1: Feature Obervation;\n",
    "# Step 2: Developing a model;\n",
    "# ~~~~~~~~Step 2.2-Implementation: define a performance metric;\n",
    "# ~~~~~~~~Step 2.3-Question 2: Goodness of Fit;\n",
    "# ~~~~~~~~Step 2.4-Implementation: shuffle and split data;\n",
    "# ~~~~~~~~Step 2.5-Question 3: Train and testing;\n",
    "# Step 3: Analyzing model performance;\n",
    "# ~~~~~~~~Step 3.2-Learning curve;######(PROBLEMS)######\n",
    "# ~~~~~~~~Step 3.3-Question 4: Learning the data;\n",
    "# ~~~~~~~~Step 3.4-Complexity Curve;\n",
    "# ~~~~~~~~Step 3.5-Question 5: Bias-Variance Tradeoff;\n",
    "# ~~~~~~~~Step 3.6-Question 6: Best-Guess Optimal Model;\n",
    "# Step 4: Evaluating Model Performance;\n",
    "# ~~~~~~~~Step 4.2-Question 7: Grid Search;######(PROBLEMS)######\n",
    "# ~~~~~~~~Step 4.3-Question 8: Cross-Validation;######(PROBLEMS)######\n",
    "# ~~~~~~~~Step 4.4-Implementation: fitting a model;\n",
    "# ~~~~~~~~Step 4.5-Make predictions\n",
    "# ~~~~~~~~Step 4.6-Question 9: Optimal Model;\n",
    "# ~~~~~~~~Step 4.7-Question 10: Predicting Selling price;\n",
    "# ~~~~~~~~Step 4.8-Sensitivity;\n",
    "# ~~~~~~~~Step 4.9-Question 11: Applicability;\n"
   ]
  },
  {
   "cell_type": "code",
   "execution_count": 10,
   "metadata": {},
   "outputs": [
    {
     "name": "stdout",
     "output_type": "stream",
     "text": [
      "Boston housing dataset has 489 data points with 4 variables each\n"
     ]
    },
    {
     "data": {
      "text/html": [
       "<div>\n",
       "<style>\n",
       "    .dataframe thead tr:only-child th {\n",
       "        text-align: right;\n",
       "    }\n",
       "\n",
       "    .dataframe thead th {\n",
       "        text-align: left;\n",
       "    }\n",
       "\n",
       "    .dataframe tbody tr th {\n",
       "        vertical-align: top;\n",
       "    }\n",
       "</style>\n",
       "<table border=\"1\" class=\"dataframe\">\n",
       "  <thead>\n",
       "    <tr style=\"text-align: right;\">\n",
       "      <th></th>\n",
       "      <th>RM</th>\n",
       "      <th>LSTAT</th>\n",
       "      <th>PTRATIO</th>\n",
       "      <th>MEDV</th>\n",
       "    </tr>\n",
       "  </thead>\n",
       "  <tbody>\n",
       "    <tr>\n",
       "      <th>count</th>\n",
       "      <td>489.000000</td>\n",
       "      <td>489.000000</td>\n",
       "      <td>489.000000</td>\n",
       "      <td>4.890000e+02</td>\n",
       "    </tr>\n",
       "    <tr>\n",
       "      <th>mean</th>\n",
       "      <td>6.240288</td>\n",
       "      <td>12.939632</td>\n",
       "      <td>18.516564</td>\n",
       "      <td>4.543429e+05</td>\n",
       "    </tr>\n",
       "    <tr>\n",
       "      <th>std</th>\n",
       "      <td>0.643650</td>\n",
       "      <td>7.081990</td>\n",
       "      <td>2.111268</td>\n",
       "      <td>1.653403e+05</td>\n",
       "    </tr>\n",
       "    <tr>\n",
       "      <th>min</th>\n",
       "      <td>3.561000</td>\n",
       "      <td>1.980000</td>\n",
       "      <td>12.600000</td>\n",
       "      <td>1.050000e+05</td>\n",
       "    </tr>\n",
       "    <tr>\n",
       "      <th>25%</th>\n",
       "      <td>5.880000</td>\n",
       "      <td>7.370000</td>\n",
       "      <td>17.400000</td>\n",
       "      <td>3.507000e+05</td>\n",
       "    </tr>\n",
       "    <tr>\n",
       "      <th>50%</th>\n",
       "      <td>6.185000</td>\n",
       "      <td>11.690000</td>\n",
       "      <td>19.100000</td>\n",
       "      <td>4.389000e+05</td>\n",
       "    </tr>\n",
       "    <tr>\n",
       "      <th>75%</th>\n",
       "      <td>6.575000</td>\n",
       "      <td>17.120000</td>\n",
       "      <td>20.200000</td>\n",
       "      <td>5.187000e+05</td>\n",
       "    </tr>\n",
       "    <tr>\n",
       "      <th>max</th>\n",
       "      <td>8.398000</td>\n",
       "      <td>37.970000</td>\n",
       "      <td>22.000000</td>\n",
       "      <td>1.024800e+06</td>\n",
       "    </tr>\n",
       "  </tbody>\n",
       "</table>\n",
       "</div>"
      ],
      "text/plain": [
       "               RM       LSTAT     PTRATIO          MEDV\n",
       "count  489.000000  489.000000  489.000000  4.890000e+02\n",
       "mean     6.240288   12.939632   18.516564  4.543429e+05\n",
       "std      0.643650    7.081990    2.111268  1.653403e+05\n",
       "min      3.561000    1.980000   12.600000  1.050000e+05\n",
       "25%      5.880000    7.370000   17.400000  3.507000e+05\n",
       "50%      6.185000   11.690000   19.100000  4.389000e+05\n",
       "75%      6.575000   17.120000   20.200000  5.187000e+05\n",
       "max      8.398000   37.970000   22.000000  1.024800e+06"
      ]
     },
     "execution_count": 10,
     "metadata": {},
     "output_type": "execute_result"
    }
   ],
   "source": [
    "# Step 0: Getting Started (Introduction on the project and data) ;\n",
    "\n",
    "\n",
    "# Goal: construct an effective model on predicting house prices\n",
    "# Info: on 1978 Boston house mkt, trained and tested, 506 entries/agg data, 14 features, \n",
    "\n",
    "\n",
    "# Import libraries for this project\n",
    "import numpy as np\n",
    "import pandas as pd   ###!!!Hey, pay attentions here. Why, someone uses pd to calculate stas and they are sample stas. That's wrong, cuz we need population stas. But why ppl?\n",
    "from sklearn.cross_validation import ShuffleSplit\n",
    "# Import supplementary visualization code\n",
    "import visuals as vs \n",
    "# Pretty display for notebook\n",
    "%matplotlib inline\n",
    "from IPython.display import display\n",
    "# Load the Bostion housing dataset\n",
    "data = pd.read_csv('housing.csv')\n",
    "\n",
    "features = data.drop('MEDV', axis =1)###!!!Confused here, why drop axis =1; I think MEDV is a relevant feature. \n",
    "\n",
    "# Success\n",
    "print \"Boston housing dataset has {} data points with {} variables each\".format(*data.shape)\n",
    "\n",
    "\n",
    "price = np.array(data['MEDV'])\n",
    "# price = data['MEDV']\n",
    "# display(price)\n",
    "\n",
    "\n",
    "# Display actual data  \n",
    "# pd.options.display.max_rows = 10\n",
    "# display(data)\n",
    "\n",
    "# Display statisticss of the data through pandas. (usually use numpy)\n",
    "df = pd.DataFrame(data)\n",
    "df.describe()\n",
    "\n",
    "\n",
    "# Question on np and pd: why do we need population data instead of sample. \n",
    "# So, how can I use pandas to calculate sample stats?"
   ]
  },
  {
   "cell_type": "code",
   "execution_count": 9,
   "metadata": {
    "collapsed": true
   },
   "outputs": [],
   "source": [
    "# Step 1: Data Exploration; \n",
    "\n",
    "# in this section, \n",
    "# get familiar with the data through an explorative process;\n",
    "# ~~~~~~~ seperate dataset into \"features\" and \"target variable\";\n",
    "# ~~~~~~~ The features, 'RM', 'LSTAT', 'PTRATIO, are quantitative information about each data point;(stored in features)\n",
    "# ~~~~~~~ The target variable, 'MEVD', will be the variable we seek to predict;(stored in prices)\n",
    "# make a cursory investigation about BST housing data;\n",
    "# write observations;\n"
   ]
  },
  {
   "cell_type": "code",
   "execution_count": 8,
   "metadata": {},
   "outputs": [
    {
     "name": "stdout",
     "output_type": "stream",
     "text": [
      "Statistics for the Boston housing dataset:\n",
      "\n",
      "Minimum price: $105,000.00\n",
      "Maxmum price: $1,024,800.00\n",
      "Mean price: 454,342.94\n",
      "Median price: 438,900.00\n",
      "Standard deviation: 165,171.13\n"
     ]
    }
   ],
   "source": [
    "# ~~~~~~~~Step 1.2-Implementation: calculate statistics;\n",
    "\n",
    "\n",
    "# In this section,\n",
    "# calculate descriptive statistics about BST housing prices; Dude, this is freaking important. \n",
    "\n",
    "\n",
    "# minimum price of the data\n",
    "minimum_price = np.min(price)\n",
    "\n",
    "# maximum price of the data\n",
    "maximum_price = np.max(price)\n",
    "\n",
    "# mean price of the data\n",
    "mean_price = np.mean(price)\n",
    "\n",
    "# median price of the data\n",
    "median_price = np.median(price)\n",
    "\n",
    "# standard deviation prices of the data\n",
    "standard_deviation = np.std(price)\n",
    "\n",
    "\n",
    "# show the calculated statistics \n",
    "print \"Statistics for the Boston housing dataset:\\n\"\n",
    "print \"Minimum price: ${:,.2f}\".format(minimum_price)\n",
    "print \"Maxmum price: ${:,.2f}\".format(maximum_price)\n",
    "print \"Mean price: {:,.2f}\".format(mean_price)\n",
    "print \"Median price: {:,.2f}\".format(median_price)\n",
    "print \"Standard deviation: {:,.2f}\".format(standard_deviation)\n"
   ]
  },
  {
   "cell_type": "code",
   "execution_count": 12,
   "metadata": {
    "collapsed": true
   },
   "outputs": [],
   "source": [
    "# ~~~~~~~~Step 1.3-Question 1: Feature Obervation;\n",
    "\n",
    "# Remember, we are three features: 'RM', 'LSTAT', 'PTRATIO', and for each data point:\n",
    "# 'RM': the average number of room among homes in the neigborhood.\n",
    "# 'LSTAT': the precentage of homeowners in the neigborhood considered \"lower class\", working poor. \n",
    "# 'PTRATIO': the ratio of students to teachers in primary and secondary schools in the neigborhood.\n",
    "\n",
    "\n",
    "# Answer to the Question1:\n",
    "# Intuitionally speaking, the increase in the value of the feature 'RM' will increase the value of 'MEDV', and vice versa,\n",
    "# ~~~~~~~~~~~~~~~~~~~~~~~~because the more rooms correlates the larger squrefeet, which means higehr prices. \n",
    "\n",
    "# ~~~~~~~~~~~~~~~~~~~~~~~~the increase in the value of the feature 'LSTAT' will decrease the value of 'MEDV', and vice versa,\n",
    "# ~~~~~~~~~~~~~~~~~~~~~~~~because from common sense, the rich affords more to live in a better place. \n",
    "\n",
    "# ~~~~~~~~~~~~~~~~~~~~~~~~the increase in the value of the feature 'PTRATO' will decrease the value of 'MEDV', and vice versa.\n",
    "# ~~~~~~~~~~~~~~~~~~~~~~~~because the lower ratio of students to teachers, the more resources a student get access, and it means the more cost \n",
    "# ~~~~~~~~~~~~~~~~~~~~~~~~to a family. The families that can send their children to schools with lower students to teachers ratios\n",
    "# ~~~~~~~~~~~~~~~~~~~~~~~~are not poor, which means, their house prices might be higher.\n",
    "\n",
    "# Statistically speaking, according to the correlation among those features, \n",
    "# ~~~~~~~~~~~~~~~~~~~~~~~~an unit increase in the value of feature'RM' will increase about 0.697 of 'MEDV';\n",
    "# ~~~~~~~~~~~~~~~~~~~~~~~~an unit increase in the value of feature 'LSTAT' will decrease about 0.761 of 'MEDV';\n",
    "# ~~~~~~~~~~~~~~~~~~~~~~~~an unit increase in the value of feature 'PTRATIO' will decrease about 0.519 of 'MEDV'.\n"
   ]
  },
  {
   "cell_type": "code",
   "execution_count": 11,
   "metadata": {},
   "outputs": [
    {
     "data": {
      "text/html": [
       "<div>\n",
       "<style>\n",
       "    .dataframe thead tr:only-child th {\n",
       "        text-align: right;\n",
       "    }\n",
       "\n",
       "    .dataframe thead th {\n",
       "        text-align: left;\n",
       "    }\n",
       "\n",
       "    .dataframe tbody tr th {\n",
       "        vertical-align: top;\n",
       "    }\n",
       "</style>\n",
       "<table border=\"1\" class=\"dataframe\">\n",
       "  <thead>\n",
       "    <tr style=\"text-align: right;\">\n",
       "      <th></th>\n",
       "      <th>RM</th>\n",
       "      <th>LSTAT</th>\n",
       "      <th>PTRATIO</th>\n",
       "      <th>MEDV</th>\n",
       "    </tr>\n",
       "  </thead>\n",
       "  <tbody>\n",
       "    <tr>\n",
       "      <th>RM</th>\n",
       "      <td>1.000000</td>\n",
       "      <td>-0.612033</td>\n",
       "      <td>-0.304559</td>\n",
       "      <td>0.697209</td>\n",
       "    </tr>\n",
       "    <tr>\n",
       "      <th>LSTAT</th>\n",
       "      <td>-0.612033</td>\n",
       "      <td>1.000000</td>\n",
       "      <td>0.360445</td>\n",
       "      <td>-0.760670</td>\n",
       "    </tr>\n",
       "    <tr>\n",
       "      <th>PTRATIO</th>\n",
       "      <td>-0.304559</td>\n",
       "      <td>0.360445</td>\n",
       "      <td>1.000000</td>\n",
       "      <td>-0.519034</td>\n",
       "    </tr>\n",
       "    <tr>\n",
       "      <th>MEDV</th>\n",
       "      <td>0.697209</td>\n",
       "      <td>-0.760670</td>\n",
       "      <td>-0.519034</td>\n",
       "      <td>1.000000</td>\n",
       "    </tr>\n",
       "  </tbody>\n",
       "</table>\n",
       "</div>"
      ],
      "text/plain": [
       "               RM     LSTAT   PTRATIO      MEDV\n",
       "RM       1.000000 -0.612033 -0.304559  0.697209\n",
       "LSTAT   -0.612033  1.000000  0.360445 -0.760670\n",
       "PTRATIO -0.304559  0.360445  1.000000 -0.519034\n",
       "MEDV     0.697209 -0.760670 -0.519034  1.000000"
      ]
     },
     "metadata": {},
     "output_type": "display_data"
    }
   ],
   "source": [
    "correlation = data.corr()\n",
    "display(correlation)\n"
   ]
  },
  {
   "cell_type": "code",
   "execution_count": 14,
   "metadata": {
    "collapsed": true
   },
   "outputs": [],
   "source": [
    "# Step 2: Developing a model;\n",
    "\n",
    "# In this section, \n",
    "# develop tools and techniques for a model to make a prediction.\n",
    "\n",
    "# (Be able to make accurate evaluations of each model's performance.\n",
    "# How?\n",
    "# through these tools and techniques)\n",
    "# R-squared, coefficient of determination, is useful in regression analysis."
   ]
  },
  {
   "cell_type": "code",
   "execution_count": 13,
   "metadata": {
    "collapsed": true
   },
   "outputs": [],
   "source": [
    "# ~~~~~~~~Step 2.2-Implementation: define a performance metric;\n",
    "\n",
    "\n",
    "# calculate coefficient of determination, R-squared, to quantify your model's performance. How \"good\" a model is.\n",
    "# the squared correlation between the predicted and actual valued of the targeted variable. \n",
    "\n",
    "from sklearn.metrics import r2_score\n",
    "\n",
    "def performance_metric(y_true, y_predict):\n",
    "    score = r2_score(y_true, y_predict)\n",
    "    return score \n",
    "\n",
    "# print score\n",
    "#mark: name 'score' is not defined,Why?\n"
   ]
  },
  {
   "cell_type": "code",
   "execution_count": 18,
   "metadata": {},
   "outputs": [
    {
     "name": "stdout",
     "output_type": "stream",
     "text": [
      "Model has a coefficient of deterination, R-squared, of 0.923.\n"
     ]
    }
   ],
   "source": [
    "# ~~~~~~~~Step 2.3-Question 2: Goodness of Fit;\n",
    "\n",
    "score = performance_metric([3.0, -0.5, 2.0, 7.0, 4.2],[2.5, 0.0, 2.1, 7.8, 5.3])\n",
    "\n",
    "print \"Model has a coefficient of deterination, R-squared, of {:.3f}.\".format(score)\n",
    "\n",
    "a = [3.0, -0.5, 2.0, 7.0, 4.2]\n",
    "b = [2.5, 0.0, 2.1, 7.8, 5.3]\n",
    "\n",
    "# score2 = performance_metric(a, b)\n",
    "# print score2"
   ]
  },
  {
   "cell_type": "code",
   "execution_count": 19,
   "metadata": {
    "collapsed": true
   },
   "outputs": [],
   "source": [
    "# Answer to the question 2: Yes, this model has successfully captured the variation of the target variable. \n",
    "# Because according to the r-squared, 92.3% of dependent variable can be predicted from the independent varible.\n"
   ]
  },
  {
   "cell_type": "code",
   "execution_count": 21,
   "metadata": {
    "collapsed": true
   },
   "outputs": [],
   "source": [
    "# df = pd.DataFrame(data)\n",
    "# df.describe()\n"
   ]
  },
  {
   "cell_type": "code",
   "execution_count": 69,
   "metadata": {},
   "outputs": [
    {
     "name": "stdout",
     "output_type": "stream",
     "text": [
      "Training and testing split was successful.\n"
     ]
    }
   ],
   "source": [
    "# ~~~~~~~~Step 2.4-Implementation: shuffle and split data;\n",
    "\n",
    "# In this section \n",
    "# let's touch real data. Take Boston housing dataset and split data into training and testing subsets\n",
    "\n",
    "from sklearn.cross_validation import train_test_split \n",
    "\n",
    "# what I need to do here is, use np, combine features and prices (into X and y?)\n",
    "# then, call train_test_split function to split the combination of features and prices.\n",
    "\n",
    "features = np.array(data[['RM','LSTAT','PTRATIO']])\n",
    "prices = np.array(data['MEDV'])\n",
    "\n",
    "X_train, X_test, y_train,y_test = train_test_split(features, prices, test_size = 0.2, random_state = 21)\n",
    "###!!! mark: why random state is 21 or 42? \n",
    "\n",
    "# success\n",
    "print \"Training and testing split was successful.\"\n"
   ]
  },
  {
   "cell_type": "code",
   "execution_count": 70,
   "metadata": {
    "collapsed": true
   },
   "outputs": [],
   "source": [
    "# ~~~~~~~~Step 2.5-Question 3: Train and testing;\n",
    "# ~~~~~~~~~~~~~~~~~~~~~~~~~~~~ What is benefit the benefit to splitting a dataset into some ratio of training and \n",
    "# ~~~~~~~~~~~~~~~~~~~~~~~~~~~~ testing subsets for a learning algorithm?\n"
   ]
  },
  {
   "cell_type": "code",
   "execution_count": 71,
   "metadata": {
    "collapsed": true
   },
   "outputs": [],
   "source": [
    "# Answer to the question 3:\n",
    "# a model might perform well based on the given data, \n",
    "# but we are not sure if it's memorizing the data points and overfitting accompanied with high-variance. \n",
    "# Since the goal of the model is to predict new data points, \n",
    "# in order to check how well a model is after we built the model,\n",
    "# we test it through randomly split data into training set and testing set.\n",
    "# Use training set to train the model and use the testing set to test results.\n",
    "# Also, the size for the training set shall be large enough, like geater than 0.75 or 0.8, \n",
    "# otherwise, our model would be underfitting accompanied with high-bias due to the lack of training data. \n"
   ]
  },
  {
   "cell_type": "code",
   "execution_count": 72,
   "metadata": {
    "collapsed": true
   },
   "outputs": [],
   "source": [
    "# Step 3: Analyzing model performance;\n",
    "\n",
    "# In this section,\n",
    "# take a look at several models' learning and testing performances on various subset of training data.\n",
    "# Also, investigate one particular algorithm with an increasing 'max_depth' parameter on the full training set to \n",
    "# oberve how model complexity affects performance.\n"
   ]
  },
  {
   "cell_type": "code",
   "execution_count": 73,
   "metadata": {},
   "outputs": [
    {
     "data": {
      "image/png": "[encoded data removed]",
      "text/plain": [
       "<matplotlib.figure.Figure at 0x1186f8290>"
      ]
     },
     "metadata": {},
     "output_type": "display_data"
    }
   ],
   "source": [
    "# ~~~~~~~~Step 3.2-Learning curve;\n",
    "\n",
    "# produce learning curves for varying training set sizes and maximum depths\n",
    "vs.ModelLearning(features, prices)\n"
   ]
  },
  {
   "cell_type": "code",
   "execution_count": 64,
   "metadata": {
    "collapsed": true
   },
   "outputs": [],
   "source": [
    "# ~~~~~~~~Step 3.3-Question 4: Learning the data;\n",
    "\n",
    "# ~~~~~~~~Choose one of the graphs above and state the maximum depth for the model\n",
    "# Answer: I choose the upper left one. The maximum depth is 1.\n"
   ]
  },
  {
   "cell_type": "code",
   "execution_count": 65,
   "metadata": {
    "collapsed": true
   },
   "outputs": [],
   "source": [
    "# ~~~~~~~~What happens to the score of the training curves as more training points are added?\n",
    "# Answer:\n",
    "# As the number of training points increases, the train score drops and the decrease of the score marginally dimishes.\n",
    "# About the testing score, with more training points added, the score goes up, and until the number of the training points\n",
    "# around about from 300 to 350, it tends to run parallel with the training score. \n",
    "\n",
    "\n",
    "# For the max_depth = 1, the approximately converging score is about 0.4 as the number of training points increases, \n",
    "# which would not be necessary to add more training points. \n",
    "\n"
   ]
  },
  {
   "cell_type": "code",
   "execution_count": 66,
   "metadata": {
    "collapsed": true
   },
   "outputs": [],
   "source": [
    "# ~~~~~~~~Would having more training points benefit the model?\n",
    "# Answer: It depends. For max_depth = 3 or 6, with more training points coming, the model might converge.\n",
    "# For max_depth =1, the low score makes the model less effective. \n",
    "# For max_depth = 10, there is no tendency of converge with more training data coming. \n"
   ]
  },
  {
   "cell_type": "code",
   "execution_count": 75,
   "metadata": {},
   "outputs": [
    {
     "data": {
      "image/png": "[encoded data removed]",
      "text/plain": [
       "<matplotlib.figure.Figure at 0x118847990>"
      ]
     },
     "metadata": {},
     "output_type": "display_data"
    }
   ],
   "source": [
    "# ~~~~~~~~Step 3.4-Complexity Curve;\n",
    "\n",
    "# a graph for a decision tree model \n",
    "\n",
    "vs.ModelComplexity(X_train, y_train)\n"
   ]
  },
  {
   "cell_type": "code",
   "execution_count": 76,
   "metadata": {
    "collapsed": true
   },
   "outputs": [],
   "source": [
    "# ~~~~~~~~Step 3.5-Question 5: Bias-Variance Tradeoff;\n",
    "\n",
    "# ~~~~~~~~When the model is trained with a maximum depth of 1, does the model suffer from high bias or high variance?\n",
    "# Answer: it suffers from high bias, which is underfitting.\n",
    "# ~~~~~~~~Because both training and validation scores are low.  \n",
    "# ~~~~~~~~Many data points from training set and validation set have been ignored at maximum depth of 1. \n"
   ]
  },
  {
   "cell_type": "code",
   "execution_count": 77,
   "metadata": {
    "collapsed": true
   },
   "outputs": [],
   "source": [
    "# ~~~~~~~~How about the model is trained with a maximum depth of 10? What visual cues in the graph justify your conclusions?\n",
    "# Answer: it suffers from high variance, which is overfitting. \n",
    "# ~~~~~~~~Because training score is much higher than the validation score. \n",
    "# ~~~~~~~~It seems that the train model is memorizing the data points, so the model performs well on training points,\n",
    "# ~~~~~~~~but it performs poorly on validation score at maximum depth of 10. \n"
   ]
  },
  {
   "cell_type": "code",
   "execution_count": 79,
   "metadata": {
    "collapsed": true
   },
   "outputs": [],
   "source": [
    "# ~~~~~~~~Step 3.6-Question 6: Best-Guess Optimal Model;\n",
    "\n",
    "# ~~~~~~~~Which maximum depth do you think results in a model that best generalizes to unseen data?\n",
    "# Answer: When maximum depth = 3, it generalizes the best results to unseen data.\n"
   ]
  },
  {
   "cell_type": "code",
   "execution_count": 78,
   "metadata": {
    "collapsed": true
   },
   "outputs": [],
   "source": [
    "# ~~~~~~~~What intuition lead you to this answer?\n",
    "# Answer: Because the validation score is highest among different maximum depths. \n"
   ]
  },
  {
   "cell_type": "code",
   "execution_count": 80,
   "metadata": {
    "collapsed": true
   },
   "outputs": [],
   "source": [
    "# Step 4: Evaluating Model Performance;\n",
    "\n",
    "# In this section,\n",
    "# construct a model and make a prediction on the client's feature set\n",
    "# using an optimized model from fit_model\n"
   ]
  },
  {
   "cell_type": "code",
   "execution_count": 81,
   "metadata": {
    "collapsed": true
   },
   "outputs": [],
   "source": [
    "# ~~~~~~~~Step 4.2-Question 7: Grid Search;\n",
    "\n",
    "# ~~~~~~~~What is the grid search technique?\n",
    "# ~~~~~~~~How it can be applied to optimize a learning algorithm?\n",
    "# Answer: \n",
    "# when we use some algorithms to train some data, \n",
    "# there will be more than one hyper-parameters given by the engineer.\n",
    "# Different hyper-parameters will output different results and we calculate metrics such as f1 socre1. \n",
    "# We might use other metrics depends on regression or classification. \n",
    "# So, to pick the best combination of different results from different hyper-parameters, \n",
    "# we make a table to do this, making all the possible combinations and choosing the best one,\n",
    "# and this is grid search technique. \n",
    "\n",
    "# For example, when we use support vector machine algorithm to train data, \n",
    "# we will have two hyper-parameters: kernals and gamma.\n",
    "# Kernals have linear or polynomial options and gamma has different values.\n",
    "# So, we use our training set to train linear models and polynomial models with different values of gamma.\n",
    "# We use grid search table to find out all the possible combinations.\n",
    "# Then, use the cross-validation set to get f1 scores as the metric from all these models.\n",
    "# Pick the model with the highest f1 score.\n",
    "# Finally, test it with testing set.\n",
    "# This is how to use grid search technique on support vector machine algorithm. \n"
   ]
  },
  {
   "cell_type": "code",
   "execution_count": 82,
   "metadata": {
    "collapsed": true
   },
   "outputs": [],
   "source": [
    "# ~~~~~~~~Step 4.3-Question 8: Cross-Validation;\n",
    "# ~~~~~~~~What is the k-fold cross-validation training technique?\n",
    "\n",
    "# (So far, the hardest problem personally thinking. I spent some time and delving into this problem a bit more)\n",
    "\n",
    "# Answer:\n",
    "# In order to not touch the testing set but to tune the model, we use cross-validation technique;\n",
    "# Use part of training dataset as our \"tuning dataset\", which has a name cross-validation set;\n",
    "# So, we can use the training data set to train our model and use the cross-validation set to make decisions about our model, such as the degree of polynomial;\n",
    "# However, the cross-validation technique shrinks the size of our training dataset.\n",
    "\n",
    "# So, the solution is k-fold cross-validation technique;\n",
    "# It will randomly divide our whole data points into k bins;\n",
    "# Test one of the k bins while train the rest of k-1 bins;\n",
    "# This process will repest k times randomly by set \"shuffle = True\";;\n",
    "# Then, average the results to find the model. \n"
   ]
  },
  {
   "cell_type": "code",
   "execution_count": 83,
   "metadata": {
    "collapsed": true
   },
   "outputs": [],
   "source": [
    "# ~~~~~~~~What benefit does this technique provide for grid search when optimizing a model?\n",
    "# Answer: \n",
    "# Without using cross validation, splitting training data set into, let's say, 8:2, training/validation set,\n",
    "# we can train parameter combination on the training set and get its score on the validation set, and choose the best one.\n",
    "# However, the estimation of the model is only based on 20% validatin set, so the best model might not be actually the bset.\n",
    "# By applying K-fold cv, the model will be tested on all instances, and average k results,\n",
    "# so the grid search can find the best model. \n"
   ]
  },
  {
   "cell_type": "code",
   "execution_count": 84,
   "metadata": {
    "collapsed": true
   },
   "outputs": [],
   "source": [
    "# ~~~~~~~~Step 4.4-Implementation: fitting a model;\n",
    "\n",
    "# In this section, use decision tree algorithm to train a moddel.\n",
    "# Use the grid search to optimize the model through finding a good 'max_depth' parameter.\n",
    "# 'max_depth': how many questions the decision tree is allowed to ask about the data before making a prediction.\n",
    "\n",
    "# About 'ShuffleSplit()': an alternative form of cro-val, but differnt from K-fold Cor-Val.\n",
    "# 'ShuffleSplit()' will create 10('n_splits')shuffled sets. \n",
    "# For each shuffle, 20% of data will be testing set or validation set. \n",
    "\n",
    "# Think about 'ShuffleSplit()' and K-fold cross validation. \n"
   ]
  },
  {
   "cell_type": "code",
   "execution_count": 133,
   "metadata": {
    "collapsed": true
   },
   "outputs": [],
   "source": [
    "from sklearn.metrics import make_scorer\n",
    "from sklearn.tree import DecisionTreeRegressor\n",
    "from sklearn.grid_search import GridSearchCV\n",
    "\n",
    "def fit_model(X, y):\n",
    "#     ShuffleSplit(n, n_iter=10, test_size=0.1, train_size=None, random_state=None)###This doesn't work here. \n",
    "    \n",
    "    cv_sets = ShuffleSplit(X.shape[0], n_iter=10, test_size=0.2, random_state=0)\n",
    "\n",
    "    # Create a decision tree regressor object\n",
    "    regressor = DecisionTreeRegressor(random_state = 0)\n",
    "\n",
    "    # Create a dictionary for the parameter 'max_depth' from range 1 to 10.\n",
    "    params = {'max_depth':list(range(1,11))}\n",
    "\n",
    "    # Transform 'performance_metric' into a scoring function using 'make_scorer'.\n",
    "    scoring_func = make_scorer(performance_metric)\n",
    "    \n",
    "    # Create a grid search cv obj\n",
    "    grid = GridSearchCV(regressor, params, scoring_func, cv = cv_sets)\n",
    "    #~~~~~~~~~~~~~~~~~~~~~~~~~~~~~~~~~~~~~~~~~~~~~~~~~~~~cv = cv_sets?cv_sets? wtf,why?#\n",
    "    \n",
    "    # Fit the grid search object to the data to compute the optimal model.\n",
    "    grid = grid.fit(X,y)\n",
    "    \n",
    "    # Return teh optimal model after fitting the data.\n",
    "    return grid.best_estimator_\n",
    "    "
   ]
  },
  {
   "cell_type": "code",
   "execution_count": 134,
   "metadata": {
    "collapsed": true
   },
   "outputs": [],
   "source": [
    "# ~~~~~~~~Step 4.5-Make predictions\n",
    "\n",
    "# In this section,\n",
    "# The model's been train, so let's make predictions on new set of data.\n",
    "\n",
    "# In the case of decision tree regressor, the model has learned:\n",
    "# what the best questions to ask about input data are, and can respond with a prediction for the target variable. \n"
   ]
  },
  {
   "cell_type": "code",
   "execution_count": 135,
   "metadata": {
    "collapsed": true
   },
   "outputs": [],
   "source": [
    "# ~~~~~~~~Step 4.6-Question 9: Optimal Model;\n",
    "# ~~~~~~~~~~~~~~~~~~~~~~~~~~~~ What maximum depth does the optimal model have? How does the result compare to your guess in Question 6?\n",
    "# Answer: \n",
    "# 'max_depth;' = 4 is for the optimal model.\n",
    "# In the question 6, my answer fot the 'max_depth' is 3. It is different. \n"
   ]
  },
  {
   "cell_type": "code",
   "execution_count": 136,
   "metadata": {},
   "outputs": [
    {
     "name": "stdout",
     "output_type": "stream",
     "text": [
      "Parameter 'max_depth' is 4 for the optimal model.\n"
     ]
    }
   ],
   "source": [
    "# Fit the training data to the model using grid search.\n",
    "reg = fit_model(X_train, y_train)\n",
    "\n",
    "# Produce value for 'max_depth'\n",
    "print \"Parameter 'max_depth' is {} for the optimal model.\".format(reg.get_params()['max_depth'])\n"
   ]
  },
  {
   "cell_type": "code",
   "execution_count": 137,
   "metadata": {
    "collapsed": true
   },
   "outputs": [],
   "source": [
    "# ~~~~~~~~Step 4.7-Question 10: Predicting Selling price;\n",
    "# ~~~~~~~~~~~~~~~~~~~~~~~~~~~~~ What price would you recommend each client sell his/her home at?\n",
    "# Answer:\n",
    "# For my client1, I would suggest an expected selling price around $400,000. \n",
    "# For my client2, I would suggest an expected selling price around $230,000.\n",
    "# For my client3, I would suggest an expected selling price between $850,000 and $900,000.\n"
   ]
  },
  {
   "cell_type": "code",
   "execution_count": 138,
   "metadata": {
    "collapsed": true
   },
   "outputs": [],
   "source": [
    "# ~~~~~~~~~~~~~~~~~~~~~~~~~~~~~ Do these prices seem reasonable given the value for the repective feature?\n",
    "# Answer:\n",
    "# I would say, it is reasonable. \n",
    "# Based on the correlations between each feature and target variable (housing price), \n",
    "# the total number of rooms and the leve of powerty of neighborhood have big influences on housing prices,\n",
    "# and the student-teacher ratio is secondary. \n",
    "# Client3 has the best score on each of these features, but client2 has the worset on each of these features. \n",
    "# So, this is why my client3's house is much mor expensive than my client2's. \n"
   ]
  },
  {
   "cell_type": "code",
   "execution_count": 140,
   "metadata": {},
   "outputs": [
    {
     "name": "stdout",
     "output_type": "stream",
     "text": [
      "Predicted selling price for client 1's home: $407,400.00\n",
      "Predicted selling price for client 2's home: $230,508.51\n",
      "Predicted selling price for client 3's home: $888,720.00\n"
     ]
    }
   ],
   "source": [
    "# Produce a matrix for client data\n",
    "client_data = [[5,17,15], # Client1\n",
    "               [4,32,22], # Client2\n",
    "               [8,3,12]]  # Client3\n",
    "\n",
    "# Show predictions\n",
    "for i, price in enumerate(reg.predict(client_data)):\n",
    "    print \"Predicted selling price for client {}'s home: ${:,.2f}\".format(i+1,price)\n"
   ]
  },
  {
   "cell_type": "code",
   "execution_count": 142,
   "metadata": {},
   "outputs": [
    {
     "data": {
      "text/html": [
       "<div>\n",
       "<style>\n",
       "    .dataframe thead tr:only-child th {\n",
       "        text-align: right;\n",
       "    }\n",
       "\n",
       "    .dataframe thead th {\n",
       "        text-align: left;\n",
       "    }\n",
       "\n",
       "    .dataframe tbody tr th {\n",
       "        vertical-align: top;\n",
       "    }\n",
       "</style>\n",
       "<table border=\"1\" class=\"dataframe\">\n",
       "  <thead>\n",
       "    <tr style=\"text-align: right;\">\n",
       "      <th></th>\n",
       "      <th>RM</th>\n",
       "      <th>LSTAT</th>\n",
       "      <th>PTRATIO</th>\n",
       "      <th>MEDV</th>\n",
       "    </tr>\n",
       "  </thead>\n",
       "  <tbody>\n",
       "    <tr>\n",
       "      <th>RM</th>\n",
       "      <td>1.000000</td>\n",
       "      <td>-0.612033</td>\n",
       "      <td>-0.304559</td>\n",
       "      <td>0.697209</td>\n",
       "    </tr>\n",
       "    <tr>\n",
       "      <th>LSTAT</th>\n",
       "      <td>-0.612033</td>\n",
       "      <td>1.000000</td>\n",
       "      <td>0.360445</td>\n",
       "      <td>-0.760670</td>\n",
       "    </tr>\n",
       "    <tr>\n",
       "      <th>PTRATIO</th>\n",
       "      <td>-0.304559</td>\n",
       "      <td>0.360445</td>\n",
       "      <td>1.000000</td>\n",
       "      <td>-0.519034</td>\n",
       "    </tr>\n",
       "    <tr>\n",
       "      <th>MEDV</th>\n",
       "      <td>0.697209</td>\n",
       "      <td>-0.760670</td>\n",
       "      <td>-0.519034</td>\n",
       "      <td>1.000000</td>\n",
       "    </tr>\n",
       "  </tbody>\n",
       "</table>\n",
       "</div>"
      ],
      "text/plain": [
       "               RM     LSTAT   PTRATIO      MEDV\n",
       "RM       1.000000 -0.612033 -0.304559  0.697209\n",
       "LSTAT   -0.612033  1.000000  0.360445 -0.760670\n",
       "PTRATIO -0.304559  0.360445  1.000000 -0.519034\n",
       "MEDV     0.697209 -0.760670 -0.519034  1.000000"
      ]
     },
     "metadata": {},
     "output_type": "display_data"
    }
   ],
   "source": [
    "# Statistics for the Boston housing dataset:\n",
    "\n",
    "# Minimum price: $105,000.00\n",
    "# Maxmum price: $1,024,800.00\n",
    "# Mean price: 454,342.94\n",
    "# Median price: 438,900.00\n",
    "# Standard deviation: 165,171.13\n",
    "\n",
    "display(correlation)"
   ]
  },
  {
   "cell_type": "code",
   "execution_count": 145,
   "metadata": {},
   "outputs": [
    {
     "name": "stdout",
     "output_type": "stream",
     "text": [
      "Trial 1: $391,183.33\n",
      "Trial 2: $424,935.00\n",
      "Trial 3: $415,800.00\n",
      "Trial 4: $420,622.22\n",
      "Trial 5: $418,377.27\n",
      "Trial 6: $411,931.58\n",
      "Trial 7: $399,663.16\n",
      "Trial 8: $407,232.00\n",
      "Trial 9: $351,577.61\n",
      "Trial 10: $413,700.00\n",
      "\n",
      "Range in prices: $73,357.39\n"
     ]
    }
   ],
   "source": [
    "# ~~~~~~~~Step 4.8-Sensitivity;\n",
    "\n",
    "# In this section,\n",
    "# an optimal model, is neither overfitting nor underfitting.\n",
    "\n",
    "vs.PredictTrials(features, prices, fit_model, client_data)\n"
   ]
  },
  {
   "cell_type": "code",
   "execution_count": null,
   "metadata": {
    "collapsed": true
   },
   "outputs": [],
   "source": [
    "# ~~~~~~~~Step 4.9-Question 11: Applicability;\n",
    "# ~~~~~~~~~~~~~~~~~~~~~~~~~~~~~ In few sentences, discuss whether the constructed model should or should not be used in a real-world setting.\n",
    "# Answer:\n",
    "# According to the range in prices, I think that model is working. The price range is believable based on the common sense of trading houses.\n",
    "# I believe that the constructed model built here is not effective enough to be put into use today. \n",
    "# Firstly, we might need to collect the latest data of prices. Because inflation really depreciates value of money very much. \n",
    "# Secondly, I agree with that the model need to consider more features, such as year built, location, number of whole foods, traffic, etc.\n",
    "# Also, the model need to be modified in case of buying or selling house in a new city, since sometimes the views might be crucial.\n",
    "\n",
    "# About whether it is fair to judge the price of an individual home based on the characteristics of the entire neighborhood,\n",
    "# arguably speaking, I would say fair. The house won't be cheap if I want to live next to Larry Page. \n"
   ]
  }
 ],
 "metadata": {
  "kernelspec": {
   "display_name": "Python 2",
   "language": "python",
   "name": "python2"
  },
  "language_info": {
   "codemirror_mode": {
    "name": "ipython",
    "version": 2
   },
   "file_extension": ".py",
   "mimetype": "text/x-python",
   "name": "python",
   "nbconvert_exporter": "python",
   "pygments_lexer": "ipython2",
   "version": "2.7.13"
  }
 },
 "nbformat": 4,
 "nbformat_minor": 2
}
