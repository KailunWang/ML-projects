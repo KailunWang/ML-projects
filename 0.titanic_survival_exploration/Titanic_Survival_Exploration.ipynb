{
 "cells": [
  {
   "cell_type": "code",
   "execution_count": 3,
   "metadata": {},
   "outputs": [
    {
     "data": {
      "text/html": [
       "<div>\n",
       "<style>\n",
       "    .dataframe thead tr:only-child th {\n",
       "        text-align: right;\n",
       "    }\n",
       "\n",
       "    .dataframe thead th {\n",
       "        text-align: left;\n",
       "    }\n",
       "\n",
       "    .dataframe tbody tr th {\n",
       "        vertical-align: top;\n",
       "    }\n",
       "</style>\n",
       "<table border=\"1\" class=\"dataframe\">\n",
       "  <thead>\n",
       "    <tr style=\"text-align: right;\">\n",
       "      <th></th>\n",
       "      <th>PassengerId</th>\n",
       "      <th>Survived</th>\n",
       "      <th>Pclass</th>\n",
       "      <th>Name</th>\n",
       "      <th>Sex</th>\n",
       "      <th>Age</th>\n",
       "      <th>SibSp</th>\n",
       "      <th>Parch</th>\n",
       "      <th>Ticket</th>\n",
       "      <th>Fare</th>\n",
       "      <th>Cabin</th>\n",
       "      <th>Embarked</th>\n",
       "    </tr>\n",
       "  </thead>\n",
       "  <tbody>\n",
       "    <tr>\n",
       "      <th>0</th>\n",
       "      <td>1</td>\n",
       "      <td>0</td>\n",
       "      <td>3</td>\n",
       "      <td>Braund, Mr. Owen Harris</td>\n",
       "      <td>male</td>\n",
       "      <td>22.0</td>\n",
       "      <td>1</td>\n",
       "      <td>0</td>\n",
       "      <td>A/5 21171</td>\n",
       "      <td>7.2500</td>\n",
       "      <td>NaN</td>\n",
       "      <td>S</td>\n",
       "    </tr>\n",
       "    <tr>\n",
       "      <th>1</th>\n",
       "      <td>2</td>\n",
       "      <td>1</td>\n",
       "      <td>1</td>\n",
       "      <td>Cumings, Mrs. John Bradley (Florence Briggs Th...</td>\n",
       "      <td>female</td>\n",
       "      <td>38.0</td>\n",
       "      <td>1</td>\n",
       "      <td>0</td>\n",
       "      <td>PC 17599</td>\n",
       "      <td>71.2833</td>\n",
       "      <td>C85</td>\n",
       "      <td>C</td>\n",
       "    </tr>\n",
       "    <tr>\n",
       "      <th>2</th>\n",
       "      <td>3</td>\n",
       "      <td>1</td>\n",
       "      <td>3</td>\n",
       "      <td>Heikkinen, Miss. Laina</td>\n",
       "      <td>female</td>\n",
       "      <td>26.0</td>\n",
       "      <td>0</td>\n",
       "      <td>0</td>\n",
       "      <td>STON/O2. 3101282</td>\n",
       "      <td>7.9250</td>\n",
       "      <td>NaN</td>\n",
       "      <td>S</td>\n",
       "    </tr>\n",
       "    <tr>\n",
       "      <th>3</th>\n",
       "      <td>4</td>\n",
       "      <td>1</td>\n",
       "      <td>1</td>\n",
       "      <td>Futrelle, Mrs. Jacques Heath (Lily May Peel)</td>\n",
       "      <td>female</td>\n",
       "      <td>35.0</td>\n",
       "      <td>1</td>\n",
       "      <td>0</td>\n",
       "      <td>113803</td>\n",
       "      <td>53.1000</td>\n",
       "      <td>C123</td>\n",
       "      <td>S</td>\n",
       "    </tr>\n",
       "    <tr>\n",
       "      <th>4</th>\n",
       "      <td>5</td>\n",
       "      <td>0</td>\n",
       "      <td>3</td>\n",
       "      <td>Allen, Mr. William Henry</td>\n",
       "      <td>male</td>\n",
       "      <td>35.0</td>\n",
       "      <td>0</td>\n",
       "      <td>0</td>\n",
       "      <td>373450</td>\n",
       "      <td>8.0500</td>\n",
       "      <td>NaN</td>\n",
       "      <td>S</td>\n",
       "    </tr>\n",
       "  </tbody>\n",
       "</table>\n",
       "</div>"
      ],
      "text/plain": [
       "   PassengerId  Survived  Pclass  \\\n",
       "0            1         0       3   \n",
       "1            2         1       1   \n",
       "2            3         1       3   \n",
       "3            4         1       1   \n",
       "4            5         0       3   \n",
       "\n",
       "                                                Name     Sex   Age  SibSp  \\\n",
       "0                            Braund, Mr. Owen Harris    male  22.0      1   \n",
       "1  Cumings, Mrs. John Bradley (Florence Briggs Th...  female  38.0      1   \n",
       "2                             Heikkinen, Miss. Laina  female  26.0      0   \n",
       "3       Futrelle, Mrs. Jacques Heath (Lily May Peel)  female  35.0      1   \n",
       "4                           Allen, Mr. William Henry    male  35.0      0   \n",
       "\n",
       "   Parch            Ticket     Fare Cabin Embarked  \n",
       "0      0         A/5 21171   7.2500   NaN        S  \n",
       "1      0          PC 17599  71.2833   C85        C  \n",
       "2      0  STON/O2. 3101282   7.9250   NaN        S  \n",
       "3      0            113803  53.1000  C123        S  \n",
       "4      0            373450   8.0500   NaN        S  "
      ]
     },
     "metadata": {},
     "output_type": "display_data"
    }
   ],
   "source": [
    "# Step1: getting started\n",
    "\n",
    "\n",
    "# Import libraries necessary for this project\n",
    "import numpy as np\n",
    "import pandas as pd\n",
    "\n",
    "# Allow the use of display() for DataFrames\n",
    "from IPython.display import display\n",
    "\n",
    "# Import supplementary visulizations code visuals.py\n",
    "import visuals as vs\n",
    "\n",
    "# Pretty display for notebooks\n",
    "%matplotlib inline\n",
    "\n",
    "# Load the dataset\n",
    "in_file = 'titanic_data.csv'\n",
    "full_data = pd.read_csv(in_file)\n",
    "\n",
    "#\n",
    "# Print the first few entries of the RMS Titanic data\n",
    "display(full_data.head())\n",
    "\n"
   ]
  },
  {
   "cell_type": "code",
   "execution_count": 4,
   "metadata": {},
   "outputs": [
    {
     "data": {
      "text/html": [
       "<div>\n",
       "<style>\n",
       "    .dataframe thead tr:only-child th {\n",
       "        text-align: right;\n",
       "    }\n",
       "\n",
       "    .dataframe thead th {\n",
       "        text-align: left;\n",
       "    }\n",
       "\n",
       "    .dataframe tbody tr th {\n",
       "        vertical-align: top;\n",
       "    }\n",
       "</style>\n",
       "<table border=\"1\" class=\"dataframe\">\n",
       "  <thead>\n",
       "    <tr style=\"text-align: right;\">\n",
       "      <th></th>\n",
       "      <th>PassengerId</th>\n",
       "      <th>Pclass</th>\n",
       "      <th>Name</th>\n",
       "      <th>Sex</th>\n",
       "      <th>Age</th>\n",
       "      <th>SibSp</th>\n",
       "      <th>Parch</th>\n",
       "      <th>Ticket</th>\n",
       "      <th>Fare</th>\n",
       "      <th>Cabin</th>\n",
       "      <th>Embarked</th>\n",
       "    </tr>\n",
       "  </thead>\n",
       "  <tbody>\n",
       "    <tr>\n",
       "      <th>0</th>\n",
       "      <td>1</td>\n",
       "      <td>3</td>\n",
       "      <td>Braund, Mr. Owen Harris</td>\n",
       "      <td>male</td>\n",
       "      <td>22.0</td>\n",
       "      <td>1</td>\n",
       "      <td>0</td>\n",
       "      <td>A/5 21171</td>\n",
       "      <td>7.2500</td>\n",
       "      <td>NaN</td>\n",
       "      <td>S</td>\n",
       "    </tr>\n",
       "    <tr>\n",
       "      <th>1</th>\n",
       "      <td>2</td>\n",
       "      <td>1</td>\n",
       "      <td>Cumings, Mrs. John Bradley (Florence Briggs Th...</td>\n",
       "      <td>female</td>\n",
       "      <td>38.0</td>\n",
       "      <td>1</td>\n",
       "      <td>0</td>\n",
       "      <td>PC 17599</td>\n",
       "      <td>71.2833</td>\n",
       "      <td>C85</td>\n",
       "      <td>C</td>\n",
       "    </tr>\n",
       "    <tr>\n",
       "      <th>2</th>\n",
       "      <td>3</td>\n",
       "      <td>3</td>\n",
       "      <td>Heikkinen, Miss. Laina</td>\n",
       "      <td>female</td>\n",
       "      <td>26.0</td>\n",
       "      <td>0</td>\n",
       "      <td>0</td>\n",
       "      <td>STON/O2. 3101282</td>\n",
       "      <td>7.9250</td>\n",
       "      <td>NaN</td>\n",
       "      <td>S</td>\n",
       "    </tr>\n",
       "    <tr>\n",
       "      <th>3</th>\n",
       "      <td>4</td>\n",
       "      <td>1</td>\n",
       "      <td>Futrelle, Mrs. Jacques Heath (Lily May Peel)</td>\n",
       "      <td>female</td>\n",
       "      <td>35.0</td>\n",
       "      <td>1</td>\n",
       "      <td>0</td>\n",
       "      <td>113803</td>\n",
       "      <td>53.1000</td>\n",
       "      <td>C123</td>\n",
       "      <td>S</td>\n",
       "    </tr>\n",
       "    <tr>\n",
       "      <th>4</th>\n",
       "      <td>5</td>\n",
       "      <td>3</td>\n",
       "      <td>Allen, Mr. William Henry</td>\n",
       "      <td>male</td>\n",
       "      <td>35.0</td>\n",
       "      <td>0</td>\n",
       "      <td>0</td>\n",
       "      <td>373450</td>\n",
       "      <td>8.0500</td>\n",
       "      <td>NaN</td>\n",
       "      <td>S</td>\n",
       "    </tr>\n",
       "  </tbody>\n",
       "</table>\n",
       "</div>"
      ],
      "text/plain": [
       "   PassengerId  Pclass                                               Name  \\\n",
       "0            1       3                            Braund, Mr. Owen Harris   \n",
       "1            2       1  Cumings, Mrs. John Bradley (Florence Briggs Th...   \n",
       "2            3       3                             Heikkinen, Miss. Laina   \n",
       "3            4       1       Futrelle, Mrs. Jacques Heath (Lily May Peel)   \n",
       "4            5       3                           Allen, Mr. William Henry   \n",
       "\n",
       "      Sex   Age  SibSp  Parch            Ticket     Fare Cabin Embarked  \n",
       "0    male  22.0      1      0         A/5 21171   7.2500   NaN        S  \n",
       "1  female  38.0      1      0          PC 17599  71.2833   C85        C  \n",
       "2  female  26.0      0      0  STON/O2. 3101282   7.9250   NaN        S  \n",
       "3  female  35.0      1      0            113803  53.1000  C123        S  \n",
       "4    male  35.0      0      0            373450   8.0500   NaN        S  "
      ]
     },
     "metadata": {},
     "output_type": "display_data"
    }
   ],
   "source": [
    "# Remove \"Survived\" feature from this dataset to make my machine learning model\n",
    "\n",
    "outcomes = full_data['Survived']\n",
    "data = full_data.drop('Survived', axis = 1)\n",
    "\n",
    "# Show the new dataset without \"Survived\"\n",
    "display(data.head())\n"
   ]
  },
  {
   "cell_type": "code",
   "execution_count": 4,
   "metadata": {},
   "outputs": [
    {
     "name": "stdout",
     "output_type": "stream",
     "text": [
      "Predictions have an accuracy of 60.00%\n"
     ]
    }
   ],
   "source": [
    "\n",
    "# Need a metric to score our predictions against the true outcomes of survival \n",
    "# Let's start from a small proportion on first five passengers\n",
    "\n",
    "\n",
    "def accuracy_score(truth, pred):\n",
    "    \n",
    "#     ensure that the number of predictions matches numbers of outcomes\n",
    "    if len(truth) == len(pred):\n",
    "        \n",
    "#         Calculate and return accuracy as a percentage\n",
    "        return \"Predictions have an accuracy of {:.2f}%\".format((truth == pred).mean()*100)\n",
    "    \n",
    "    \n",
    "    else:\n",
    "        \n",
    "        return \"Number of predictions does not match number of outcomes!\"\n",
    "        \n",
    "    \n",
    "    \n",
    "# Test accuracy_score function\n",
    "predictions = pd.Series(np.ones(5,dtype = int))\n",
    "print accuracy_score(outcomes[:5], predictions)\n",
    "\n",
    "\n"
   ]
  },
  {
   "cell_type": "code",
   "execution_count": 5,
   "metadata": {
    "collapsed": true
   },
   "outputs": [],
   "source": [
    "# Step2: making predictions\n",
    "\n",
    "# For unknown passengers, we assume they did not survive. Cuz the majority, >50%, did not survive the ship sinking. \n",
    "\n",
    "\n",
    "# The prediction_0 function below will always predict that a passenger did not survive. \n",
    "\n",
    "def predictions_0(data):\n",
    "    \n",
    "    predictions = []\n",
    "    \n",
    "    for _, passenger in data.iterrows():\n",
    "        \n",
    "#         Prediction the survival of 'passenger'\n",
    "        predictions.append(0)\n",
    "    \n",
    "#     return our predictions\n",
    "    return pd.Series(predictions)\n",
    "\n",
    "\n",
    "# Make the predictions\n",
    "predictions = predictions_0(data)\n"
   ]
  },
  {
   "cell_type": "code",
   "execution_count": 6,
   "metadata": {
    "collapsed": true
   },
   "outputs": [],
   "source": [
    "\n",
    "# Question1: using the RMS Titanic data, how accurate would a prediction be that none of the passengers survived?\n"
   ]
  },
  {
   "cell_type": "code",
   "execution_count": 7,
   "metadata": {},
   "outputs": [
    {
     "name": "stdout",
     "output_type": "stream",
     "text": [
      "Predictions have an accuracy of 61.62%\n"
     ]
    }
   ],
   "source": [
    "print accuracy_score(outcomes, predictions)"
   ]
  },
  {
   "cell_type": "code",
   "execution_count": 8,
   "metadata": {
    "collapsed": true
   },
   "outputs": [],
   "source": [
    "\n",
    "#Answer to the Question1: \n",
    "# ==> \"Predictions have an accuracy of 61.62%\"\n"
   ]
  },
  {
   "cell_type": "code",
   "execution_count": 9,
   "metadata": {},
   "outputs": [
    {
     "data": {
      "image/png": "[encoded data removed]",
      "text/plain": [
       "<matplotlib.figure.Figure at 0x1083e9850>"
      ]
     },
     "metadata": {},
     "output_type": "display_data"
    }
   ],
   "source": [
    "# Let's check how feature Sex affecting the survival rate, using survival_stats function\n",
    "\n",
    "vs.survival_stats(data, outcomes, 'Sex')\n"
   ]
  },
  {
   "cell_type": "code",
   "execution_count": 10,
   "metadata": {
    "collapsed": true
   },
   "outputs": [],
   "source": [
    "# Female survived more than male,\n",
    "# so, let's build on our previous prediction: if a messenger was female, then we will predict that they survived,\n",
    "# Ohterwise, we will predict the passenger did not survive. "
   ]
  },
  {
   "cell_type": "code",
   "execution_count": 478,
   "metadata": {
    "collapsed": true
   },
   "outputs": [],
   "source": [
    "def predictions_1(data):\n",
    "    \n",
    "    predictions = []\n",
    "    \n",
    "    for _, passenger in data.iterrows():\n",
    "        if passenger['Sex'] == 'female':\n",
    "            predictions.append(1)\n",
    "        else:\n",
    "            predictions.append(0)\n",
    "#   return predictions\n",
    "    return pd.Series(predictions)\n",
    "\n",
    "    \n",
    "# make the predictions\n",
    "predictions = predictions_1(data)\n",
    "    "
   ]
  },
  {
   "cell_type": "code",
   "execution_count": 479,
   "metadata": {
    "collapsed": true
   },
   "outputs": [],
   "source": [
    "# Question2: how accurate would a prediction be that \n",
    "# all female passengers survived and the remaining passengers did not survive?"
   ]
  },
  {
   "cell_type": "code",
   "execution_count": 480,
   "metadata": {},
   "outputs": [
    {
     "name": "stdout",
     "output_type": "stream",
     "text": [
      "Predictions have an accuracy of 78.68%\n"
     ]
    }
   ],
   "source": [
    "print accuracy_score(outcomes, predictions)"
   ]
  },
  {
   "cell_type": "code",
   "execution_count": 481,
   "metadata": {
    "collapsed": true
   },
   "outputs": [],
   "source": [
    "# Answer to the Question2:\n",
    "# ==> \"Predictions have an accuracy of 78.68%\" \n",
    "# Uhmm, interesting, I started to enjoy ML after I saw my accuracy improving. "
   ]
  },
  {
   "cell_type": "code",
   "execution_count": 482,
   "metadata": {},
   "outputs": [
    {
     "data": {
      "image/png": "[encoded data removed]",
      "text/plain": [
       "<matplotlib.figure.Figure at 0x1147ffb50>"
      ]
     },
     "metadata": {},
     "output_type": "display_data"
    }
   ],
   "source": [
    "# Sex feature for each passenger really improved my model's accuracy. \n",
    "# What if we add more features to improve the accuracy? Fun\n",
    "# Which subset of the passengers might have a higer suvival rate? What about Age of each male. \n",
    "\n",
    "# vs.survival_stats(data, outcomes, 'Age', ['Sex'] == 'male') ==>What?Why?\n",
    "vs.survival_stats(data, outcomes, 'Age', [\"Sex == 'male'\"])\n"
   ]
  },
  {
   "cell_type": "code",
   "execution_count": 483,
   "metadata": {
    "collapsed": true
   },
   "outputs": [],
   "source": [
    "# Let's keep going. Continue to build on our previous prediction:\n",
    "# if a passenger was female, then we will predict they survive;\n",
    "# if a passenger was male and younger than 10, then we will predict they survive; otherwise they won't.\n",
    "\n",
    "\n",
    "def predictions_2(data):\n",
    "    \n",
    "    predictions = []\n",
    "    \n",
    "    for _, passenger in data.iterrows():\n",
    "        \n",
    "        if passenger['Sex'] == 'female':\n",
    "            predictions.append(1)\n",
    "        elif passenger['Sex'] == 'male' and passenger['Age'] < 10:\n",
    "            predictions.append(1)\n",
    "        else:\n",
    "            predictions.append(0)\n",
    "#   Return the predictions\n",
    "    return pd.Series(predictions)\n",
    "\n",
    "#  Make the predicitons\n",
    "predictions = predictions_2(data)"
   ]
  },
  {
   "cell_type": "code",
   "execution_count": 484,
   "metadata": {
    "collapsed": true
   },
   "outputs": [],
   "source": [
    "# Question3: How accurate would a prediction be that \n",
    "# all female passengers and male passengers younger than 10 survived?"
   ]
  },
  {
   "cell_type": "code",
   "execution_count": 485,
   "metadata": {},
   "outputs": [
    {
     "name": "stdout",
     "output_type": "stream",
     "text": [
      "Predictions have an accuracy of 79.35%\n"
     ]
    }
   ],
   "source": [
    "print accuracy_score(outcomes, predictions)"
   ]
  },
  {
   "cell_type": "code",
   "execution_count": 19,
   "metadata": {
    "collapsed": true
   },
   "outputs": [],
   "source": [
    "#Anser to the Question3: \n",
    "# ==> \"Predictions have an accuracy of 79.35%\"\n",
    "# It's getting better."
   ]
  },
  {
   "cell_type": "code",
   "execution_count": 20,
   "metadata": {
    "collapsed": true
   },
   "outputs": [],
   "source": [
    "# Age + sex improved a little compare with sex alone, uhmm...\n",
    "# However, so far, I've tasted humanity in ML. To improve accuracy, one must consider common sense. "
   ]
  },
  {
   "cell_type": "code",
   "execution_count": 21,
   "metadata": {},
   "outputs": [
    {
     "data": {
      "image/png": "[encoded data removed]",
      "text/plain": [
       "<matplotlib.figure.Figure at 0x1083e95d0>"
      ]
     },
     "metadata": {},
     "output_type": "display_data"
    }
   ],
   "source": [
    "# Let's try new conditions!\n",
    "\n",
    "vs.survival_stats(data, outcomes, 'Age', [\"Sex == 'male'\", \"Age < 18\"])\n"
   ]
  },
  {
   "cell_type": "code",
   "execution_count": 248,
   "metadata": {},
   "outputs": [
    {
     "data": {
      "image/png": "[encoded data removed]",
      "text/plain": [
       "<matplotlib.figure.Figure at 0x114e987d0>"
      ]
     },
     "metadata": {},
     "output_type": "display_data"
    }
   ],
   "source": [
    "vs.survival_stats(data, outcomes, 'Age', [\"Sex == 'male'\", 'Pclass == 2'])\n"
   ]
  },
  {
   "cell_type": "code",
   "execution_count": 450,
   "metadata": {},
   "outputs": [
    {
     "data": {
      "image/png": "[encoded data removed]",
      "text/plain": [
       "<matplotlib.figure.Figure at 0x114b67450>"
      ]
     },
     "metadata": {},
     "output_type": "display_data"
    }
   ],
   "source": [
    "vs.survival_stats(data, outcomes, 'Sex', ['Pclass == 3', 'Parch == 0'])"
   ]
  },
  {
   "cell_type": "code",
   "execution_count": 475,
   "metadata": {
    "collapsed": true
   },
   "outputs": [],
   "source": [
    "\n",
    "def predictions_3(data):\n",
    "    \n",
    "    predictions = []\n",
    "\n",
    "    for _, passenger in data.iterrows():\n",
    "            \n",
    "###This one improves a lot. \n",
    "        if passenger['Sex'] == 'female' and passenger['Pclass'] == 1:\n",
    "            predictions.append(1)\n",
    "        elif passenger['Sex'] == 'female' and passenger['Pclass'] == 2:\n",
    "            predictions.append(1)\n",
    "###\n",
    "\n",
    "\n",
    "###1%\n",
    "        elif passenger['Sex'] == 'female' and passenger['Pclass'] == 3 and passenger['Parch'] == 0:\n",
    "            predictions.append(1)\n",
    "###\n",
    "            \n",
    "        \n",
    "###0.6%\n",
    "        elif passenger['Sex'] == 'male' and passenger['Pclass'] == 3:\n",
    "            predictions.append(0)\n",
    "###\n",
    "\n",
    "\n",
    "###0.7%\n",
    "        elif passenger['Age'] <= 10 and passenger['Pclass'] == 2:\n",
    "            predictions.append(1)\n",
    "###    \n",
    "\n",
    "\n",
    "###0.5%            \n",
    "        elif passenger['Age'] <= 10 and passenger['Pclass' == 1] and passenger['Sex'] == 'male' and passenger['Parch'] == 2:\n",
    "            predictions.append(1)\n",
    "###\n",
    "\n",
    "\n",
    "\n",
    "###unsignificant:\n",
    "#         elif passenger['Sex'] == 'female' and passenger['Pclass'] == 3 and passenger['Parch'] == 2:\n",
    "#             predictions.append(0)\n",
    "\n",
    "#         elif passenger['Sex'] == 'male' and passenger['Fare'] <= 10:\n",
    "#             predictions.append(0)\n",
    "            \n",
    "#         elif passenger['Sex'] == 'female' and passenger['Fare'] <= 10 and passenger['Age'] > 10:\n",
    "#             predictions.append(0)\n",
    "   \n",
    "#         elif passenger['Sex'] == 'male' and passenger['Pclass'] == 2 and passenger['SibSp'] == 0:\n",
    "#             predictions.append(0)\n",
    "    \n",
    "#         elif passenger['Sex'] == 'male' and passenger['Parch'] == 0:\n",
    "#             predictions.append(0)\n",
    "\n",
    "#         elif passenger['Sex'] == 'male' and passenger['Cabin'] == 'NaN' and passenger['SibSp'] == 0:\n",
    "#             predictions.append(0)\n",
    "        \n",
    "#         elif passenger['Sex'] == 'male' and passenger['SibSp'] > 3:\n",
    "#             predictions.append(0)\n",
    "\n",
    "#         elif passenger['Sex'] == 'male' and passenger['Age'] >= 10:\n",
    "#             predictions.append(0)\n",
    "\n",
    "#         elif passenger['Sex'] == 'male' and passenger['Pclass'] == 2 and passenger['Age'] > 10:\n",
    "#             predictions.append(0)\n",
    "            \n",
    "#         elif passenger['Sex'] == 'male' and passenger['Pclass'] ==1  and passenger['Age'] >= 20 and passenger['Age'] <= 40:\n",
    "#             predictions.append(1)\n",
    "            \n",
    "#         elif passenger['Sex'] == 'female' and passenger['Fare'] >= 50:\n",
    "#             predictions.append(1)\n",
    "            \n",
    "#         elif passenger['Sex'] == 'male' and passenger['SibSp'] == 0 and passenger['Pclass'] == 3:\n",
    "#             predictions.append(0)\n",
    "\n",
    "#         elif passenger['Embarked'] == 'S' and passenger['Pclass'] == 3:\n",
    "#             predictions.append(0)\n",
    "        \n",
    "#         elif passenger['Embarked'] == 'Q' and passenger['Pclass'] == 3:\n",
    "#             predictions.append(0)\n",
    "            \n",
    "#         elif passenger['Sex'] == 'male' and passenger['Age'] >= 10:\n",
    "#             predictions.append(0)\n",
    "            \n",
    "#         elif passenger['Age'] <= 40 and passenger['Pclass' == 1] and passenger['Sex'] == 'male':\n",
    "#             predictions.append(1)\n",
    "    \n",
    "#         elif passenger['Age'] <= 10 and passenger['Pclass' == 2] and passenger['Sex'] == 'male':\n",
    "#             predictions.append(1)\n",
    "        \n",
    "#         elif passenger['Age'] <= 10 and passenger['Sex'] == 'male' and passenger['Parch'] == 0:\n",
    "#             predictions.append(0)\n",
    "\n",
    "#         elif passenger['Sex'] == 'female' and passenger['Age'] >= 10 and passenger['Pclass'] == 1 and passenger['SibSp'] == 0 and passenger['Parch'] == 0:\n",
    "#             predictions.append(1)\n",
    "        \n",
    "#         elif passenger['Sex'] == 'female' and passenger['Pclass'] == 1 and passenger['Age']>= 10:\n",
    "#             predictions.append(1)\n",
    "            \n",
    "#         elif passenger['Sex'] == 'female' and passenger['Pclass'] == 2:\n",
    "#             predictions.append(1) \n",
    "            \n",
    "#         elif passenger['Sex'] == 'male' and passenger['Pclass'] == 3 and passenger['Age']>= 40:\n",
    "#             predictions.append(0) \n",
    "            \n",
    "#         elif passenger['Age'] <= 10 and passenger['Pclass' == 1] and passenger['Sex'] == 'male'and passenger['Parch'] == 1:\n",
    "#             predictions.append(1)\n",
    "\n",
    "#         elif passenger['Age'] <= 10 and passenger['Pclass'] == 1 and passenger['Sex']== 'male':\n",
    "#             predictions.append(1)\n",
    "\n",
    "            \n",
    "\n",
    "\n",
    "        else:\n",
    "            predictions.append(0)\n",
    "               \n",
    "    return pd.Series(predictions) \n",
    "\n",
    "predictions = predictions_3(data)    \n"
   ]
  },
  {
   "cell_type": "code",
   "execution_count": 476,
   "metadata": {
    "collapsed": true
   },
   "outputs": [],
   "source": [
    "#Question4: "
   ]
  },
  {
   "cell_type": "code",
   "execution_count": 477,
   "metadata": {},
   "outputs": [
    {
     "name": "stdout",
     "output_type": "stream",
     "text": [
      "Predictions have an accuracy of 81.59%\n"
     ]
    }
   ],
   "source": [
    "print accuracy_score(outcomes, predictions)"
   ]
  },
  {
   "cell_type": "code",
   "execution_count": 466,
   "metadata": {
    "collapsed": true
   },
   "outputs": [],
   "source": [
    "#Anser to the Question4: \n",
    "# ==> \"Predictions have an accuracy of 81.59%\"\n",
    "#Made it.\n",
    "\n",
    "# It was easy having 61% accuracy, and it wasn't hard to read 78%.\n",
    "# It took a little more time to reach 79.91%, and then I took few more days to get 81.59%.\n",
    "\n",
    "# From what I knwo about the story of the Titanic, roughly speaking, \n",
    "# women, children and rich dudes these people had higer rates of survial, so I use these as conditions to improve accuracy.\n",
    "\n",
    "# I think 'Sex' is a key condition to seperate dataset and it worked well.\n",
    "# However, 'Sex' alone wasn't enough, so I played it with other conditions.\n",
    "# For most of the time, my tries were wasted, but persistance made sense lastly. \n",
    "\n",
    "# For most of the time, I went a dead way beacuse I didn't use many conditions to seperate out irrelavent conditions. \n",
    "# Therefore, my accuracy even got lower.\n",
    "# I was all the way doing like, a manual 'DecsionTree', which really gave me a much better idea of how 'DecisionTree' performs.\n",
    "\n",
    "# Pretty enjoyed. \n"
   ]
  },
  {
   "cell_type": "code",
   "execution_count": null,
   "metadata": {
    "collapsed": true
   },
   "outputs": [],
   "source": [
    "# Question5: \n",
    "\n",
    "\n",
    "# Answer to the Question5:\n",
    "\n",
    "# Predicting prices of houses is really fitting into supervised learning. \n",
    "# Outcome = the price of a house \n",
    "# features: location, size, year, number of bedrooms, decoration styles, community, schools, etc. "
   ]
  },
  {
   "cell_type": "code",
   "execution_count": 448,
   "metadata": {},
   "outputs": [
    {
     "data": {
      "image/png": "[encoded data removed]",
      "text/plain": [
       "<matplotlib.figure.Figure at 0x115429410>"
      ]
     },
     "metadata": {},
     "output_type": "display_data"
    }
   ],
   "source": [
    "# Below are just helper graphs.\n",
    "vs.survival_stats(data, outcomes, 'Sex', ['Age < 20', 'Pclass == 1'])"
   ]
  },
  {
   "cell_type": "code",
   "execution_count": 28,
   "metadata": {},
   "outputs": [
    {
     "data": {
      "image/png": "[encoded data removed]",
      "text/plain": [
       "<matplotlib.figure.Figure at 0x114bc73d0>"
      ]
     },
     "metadata": {},
     "output_type": "display_data"
    }
   ],
   "source": [
    "vs.survival_stats(data, outcomes, 'SibSp', [\"Sex == 'female'\"])"
   ]
  },
  {
   "cell_type": "code",
   "execution_count": null,
   "metadata": {
    "collapsed": true
   },
   "outputs": [],
   "source": [
    "# Reviews from Udacity:\n",
    "    \n",
    "# You may consider to look at other features to further enhance the model prediction accuracy:\n",
    "\n",
    "# survival_stats(data, outcomes, 'Fare', [\"Sex == 'female'\"]) \n",
    "# survival_stats(data, outcomes, 'Embarked', [\"Sex == 'female'\"]) \n",
    "# survival_stats(data, outcomes, 'SibSp', [\"Age < 10\"]) \n",
    "# survival_stats(data, outcomes, 'Parch', [\"Sex == 'female'\"])\n",
    "# Moreover, please look at the following code block for the logic that you could apply for the female passengers:\n",
    "\n",
    "#            if (passenger['Embarked'] == \"S\" and passenger['Pclass'] == 3):\n",
    "#                 predictions.append(0)\n",
    "#             else:\n",
    "#                 predictions.append(1)"
   ]
  }
 ],
 "metadata": {
  "kernelspec": {
   "display_name": "Python 2",
   "language": "python",
   "name": "python2"
  },
  "language_info": {
   "codemirror_mode": {
    "name": "ipython",
    "version": 2
   },
   "file_extension": ".py",
   "mimetype": "text/x-python",
   "name": "python",
   "nbconvert_exporter": "python",
   "pygments_lexer": "ipython2",
   "version": "2.7.13"
  }
 },
 "nbformat": 4,
 "nbformat_minor": 2
}
