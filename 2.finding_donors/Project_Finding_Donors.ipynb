{
 "cells": [
  {
   "cell_type": "markdown",
   "metadata": {},
   "source": [
    "## Supervised Learning\n",
    "### Project: Finding Donors for *CharityML*\n",
    "#### GOAL: Make a model that predicts whether an individual makes more than $50,000"
   ]
  },
  {
   "cell_type": "markdown",
   "metadata": {
    "collapsed": true
   },
   "source": [
    "----\n",
    "## Exploring the data"
   ]
  },
  {
   "cell_type": "code",
   "execution_count": 25,
   "metadata": {},
   "outputs": [
    {
     "data": {
      "text/html": [
       "<div>\n",
       "<style>\n",
       "    .dataframe thead tr:only-child th {\n",
       "        text-align: right;\n",
       "    }\n",
       "\n",
       "    .dataframe thead th {\n",
       "        text-align: left;\n",
       "    }\n",
       "\n",
       "    .dataframe tbody tr th {\n",
       "        vertical-align: top;\n",
       "    }\n",
       "</style>\n",
       "<table border=\"1\" class=\"dataframe\">\n",
       "  <thead>\n",
       "    <tr style=\"text-align: right;\">\n",
       "      <th></th>\n",
       "      <th>age</th>\n",
       "      <th>workclass</th>\n",
       "      <th>education_level</th>\n",
       "      <th>education-num</th>\n",
       "      <th>marital-status</th>\n",
       "      <th>occupation</th>\n",
       "      <th>relationship</th>\n",
       "      <th>race</th>\n",
       "      <th>sex</th>\n",
       "      <th>capital-gain</th>\n",
       "      <th>capital-loss</th>\n",
       "      <th>hours-per-week</th>\n",
       "      <th>native-country</th>\n",
       "      <th>income</th>\n",
       "    </tr>\n",
       "  </thead>\n",
       "  <tbody>\n",
       "    <tr>\n",
       "      <th>0</th>\n",
       "      <td>39</td>\n",
       "      <td>State-gov</td>\n",
       "      <td>Bachelors</td>\n",
       "      <td>13.0</td>\n",
       "      <td>Never-married</td>\n",
       "      <td>Adm-clerical</td>\n",
       "      <td>Not-in-family</td>\n",
       "      <td>White</td>\n",
       "      <td>Male</td>\n",
       "      <td>2174.0</td>\n",
       "      <td>0.0</td>\n",
       "      <td>40.0</td>\n",
       "      <td>United-States</td>\n",
       "      <td>&lt;=50K</td>\n",
       "    </tr>\n",
       "    <tr>\n",
       "      <th>1</th>\n",
       "      <td>50</td>\n",
       "      <td>Self-emp-not-inc</td>\n",
       "      <td>Bachelors</td>\n",
       "      <td>13.0</td>\n",
       "      <td>Married-civ-spouse</td>\n",
       "      <td>Exec-managerial</td>\n",
       "      <td>Husband</td>\n",
       "      <td>White</td>\n",
       "      <td>Male</td>\n",
       "      <td>0.0</td>\n",
       "      <td>0.0</td>\n",
       "      <td>13.0</td>\n",
       "      <td>United-States</td>\n",
       "      <td>&lt;=50K</td>\n",
       "    </tr>\n",
       "  </tbody>\n",
       "</table>\n",
       "</div>"
      ],
      "text/plain": [
       "   age          workclass education_level  education-num       marital-status  \\\n",
       "0   39          State-gov       Bachelors           13.0        Never-married   \n",
       "1   50   Self-emp-not-inc       Bachelors           13.0   Married-civ-spouse   \n",
       "\n",
       "         occupation    relationship    race    sex  capital-gain  \\\n",
       "0      Adm-clerical   Not-in-family   White   Male        2174.0   \n",
       "1   Exec-managerial         Husband   White   Male           0.0   \n",
       "\n",
       "   capital-loss  hours-per-week  native-country income  \n",
       "0           0.0            40.0   United-States  <=50K  \n",
       "1           0.0            13.0   United-States  <=50K  "
      ]
     },
     "metadata": {},
     "output_type": "display_data"
    },
    {
     "data": {
      "text/plain": [
       "45222"
      ]
     },
     "execution_count": 25,
     "metadata": {},
     "output_type": "execute_result"
    }
   ],
   "source": [
    "import numpy as np\n",
    "import pandas as pd\n",
    "from time import time\n",
    "from IPython.display import display \n",
    "\n",
    "import visuals as vs\n",
    "%matplotlib inline \n",
    "\n",
    "data = pd.read_csv(\"census.csv\")\n",
    "# data.dytpes\n",
    "\n",
    "display(data.head(n=2))\n",
    "data.shape\n",
    "data.shape[0]"
   ]
  },
  {
   "cell_type": "markdown",
   "metadata": {},
   "source": [
    "### Implementation: Data Exploration"
   ]
  },
  {
   "cell_type": "code",
   "execution_count": 12,
   "metadata": {},
   "outputs": [
    {
     "data": {
      "text/plain": [
       "(11208, 14)"
      ]
     },
     "execution_count": 12,
     "metadata": {},
     "output_type": "execute_result"
    }
   ],
   "source": [
    "data[data.income == '>50K'].shape"
   ]
  },
  {
   "cell_type": "code",
   "execution_count": 13,
   "metadata": {},
   "outputs": [
    {
     "name": "stdout",
     "output_type": "stream",
     "text": [
      "Total number of records: 45,222\n",
      "Individuals making more than $500,000: 11,208\n",
      "Individuals making at most $500,00: 34,014\n",
      "Percentage of individuals making more than 50K: 24.784%\n",
      "\n"
     ]
    }
   ],
   "source": [
    "\n",
    "n_records = data.shape[0]\n",
    "n_greater_50K = data[(data.income == '>50K')].shape[0]\n",
    "n_at_most_50K = data[(data.income == '<=50K')].shape[0]\n",
    "greater_percent = 100.0 * n_greater_50K / n_records\n",
    "\n",
    "\n",
    "\n",
    "print \"Total number of records: {:,}\".format(n_records)\n",
    "print \"Individuals making more than $500,000: {:,}\".format(n_greater_50K)\n",
    "print \"Individuals making at most $500,00: {:,}\".format(n_at_most_50K)\n",
    "print \"Percentage of individuals making more than 50K: {:0.3f}%\\n\".format(greater_percent)"
   ]
  },
  {
   "cell_type": "markdown",
   "metadata": {},
   "source": [
    "----\n",
    "## Preparing the Data\n",
    "* Preprocessing (cleaned, formatted, reconstructed) the data, then input the data for machine learning algorithms\n",
    "* Hmmm, this dataset has no missing entries or invalid entries.\n",
    "* But there some qualities about certain features that we need to adjust. "
   ]
  },
  {
   "cell_type": "markdown",
   "metadata": {},
   "source": [
    "### 1. Transforming skewed continous features\n",
    "   - Some features have values lie near a single number, but also have some non-trivial number that way larger than \n",
    "   - The single number. Algorithms are sensitive to these distributions. \n",
    "   - 'capital-gain' and 'capital-loss' are these features.\n",
    "   - Thinking: \n",
    "       - What if I don't what problems this dataset has?\n",
    "       - What if I don't which features have this problem? "
   ]
  },
  {
   "cell_type": "code",
   "execution_count": 14,
   "metadata": {},
   "outputs": [
    {
     "data": {
      "image/png": "[encoded data removed]",
      "text/plain": [
       "<matplotlib.figure.Figure at 0x1196ba390>"
      ]
     },
     "metadata": {},
     "output_type": "display_data"
    }
   ],
   "source": [
    "# Time to split features and targets. I'm gonna need these features to predict targetes. \n",
    "income_raw = data['income'] # target\n",
    "features_raw = data.drop('income', axis = 1) # features\n",
    "\n",
    "# Visualize skewed continous features of original data\n",
    "vs.distribution(data)"
   ]
  },
  {
   "cell_type": "markdown",
   "metadata": {
    "collapsed": true
   },
   "source": [
    " So, the solution is using logarithmic to mitigate negative effects caused by very large and very small values. \n",
    " However, we need to make sure it's greater than 0; otherwise, undefined in log. \n"
   ]
  },
  {
   "cell_type": "code",
   "execution_count": 15,
   "metadata": {},
   "outputs": [
    {
     "data": {
      "image/png": "[encoded data removed]",
      "text/plain": [
       "<matplotlib.figure.Figure at 0x11cd03c10>"
      ]
     },
     "metadata": {},
     "output_type": "display_data"
    }
   ],
   "source": [
    "skewed = ['capital-gain', 'capital-loss']\n",
    "features_log_transformed = pd.DataFrame(data = features_raw)\n",
    "features_log_transformed[skewed] = features_raw[skewed].apply(lambda x: np.log(x + 1))\n",
    "\n",
    "vs.distribution(features_log_transformed, transformed = True)"
   ]
  },
  {
   "cell_type": "markdown",
   "metadata": {},
   "source": [
    "### 2. Normalizing numerical features\n",
    " - Scaling on numerical features; this is good;\n",
    " - It won't change shape of distribution;\n",
    " - Just make sure each features is treated equally when applying supervised leanrers;\n",
    " - Note: once scaling is applied, observing the data in its raw form will no longer have the same original meaning.\n",
    " - Thinking: \n",
    "     - What if I am not told to use normailzied scaling to do preprocessing?\n",
    "     - What if I don't which features need to be normalized?"
   ]
  },
  {
   "cell_type": "code",
   "execution_count": 16,
   "metadata": {},
   "outputs": [
    {
     "data": {
      "text/html": [
       "<div>\n",
       "<style>\n",
       "    .dataframe thead tr:only-child th {\n",
       "        text-align: right;\n",
       "    }\n",
       "\n",
       "    .dataframe thead th {\n",
       "        text-align: left;\n",
       "    }\n",
       "\n",
       "    .dataframe tbody tr th {\n",
       "        vertical-align: top;\n",
       "    }\n",
       "</style>\n",
       "<table border=\"1\" class=\"dataframe\">\n",
       "  <thead>\n",
       "    <tr style=\"text-align: right;\">\n",
       "      <th></th>\n",
       "      <th>age</th>\n",
       "      <th>workclass</th>\n",
       "      <th>education_level</th>\n",
       "      <th>education-num</th>\n",
       "      <th>marital-status</th>\n",
       "      <th>occupation</th>\n",
       "      <th>relationship</th>\n",
       "      <th>race</th>\n",
       "      <th>sex</th>\n",
       "      <th>capital-gain</th>\n",
       "      <th>capital-loss</th>\n",
       "      <th>hours-per-week</th>\n",
       "      <th>native-country</th>\n",
       "    </tr>\n",
       "  </thead>\n",
       "  <tbody>\n",
       "    <tr>\n",
       "      <th>0</th>\n",
       "      <td>0.301370</td>\n",
       "      <td>State-gov</td>\n",
       "      <td>Bachelors</td>\n",
       "      <td>0.800000</td>\n",
       "      <td>Never-married</td>\n",
       "      <td>Adm-clerical</td>\n",
       "      <td>Not-in-family</td>\n",
       "      <td>White</td>\n",
       "      <td>Male</td>\n",
       "      <td>0.667492</td>\n",
       "      <td>0.0</td>\n",
       "      <td>0.397959</td>\n",
       "      <td>United-States</td>\n",
       "    </tr>\n",
       "    <tr>\n",
       "      <th>1</th>\n",
       "      <td>0.452055</td>\n",
       "      <td>Self-emp-not-inc</td>\n",
       "      <td>Bachelors</td>\n",
       "      <td>0.800000</td>\n",
       "      <td>Married-civ-spouse</td>\n",
       "      <td>Exec-managerial</td>\n",
       "      <td>Husband</td>\n",
       "      <td>White</td>\n",
       "      <td>Male</td>\n",
       "      <td>0.000000</td>\n",
       "      <td>0.0</td>\n",
       "      <td>0.122449</td>\n",
       "      <td>United-States</td>\n",
       "    </tr>\n",
       "    <tr>\n",
       "      <th>2</th>\n",
       "      <td>0.287671</td>\n",
       "      <td>Private</td>\n",
       "      <td>HS-grad</td>\n",
       "      <td>0.533333</td>\n",
       "      <td>Divorced</td>\n",
       "      <td>Handlers-cleaners</td>\n",
       "      <td>Not-in-family</td>\n",
       "      <td>White</td>\n",
       "      <td>Male</td>\n",
       "      <td>0.000000</td>\n",
       "      <td>0.0</td>\n",
       "      <td>0.397959</td>\n",
       "      <td>United-States</td>\n",
       "    </tr>\n",
       "    <tr>\n",
       "      <th>3</th>\n",
       "      <td>0.493151</td>\n",
       "      <td>Private</td>\n",
       "      <td>11th</td>\n",
       "      <td>0.400000</td>\n",
       "      <td>Married-civ-spouse</td>\n",
       "      <td>Handlers-cleaners</td>\n",
       "      <td>Husband</td>\n",
       "      <td>Black</td>\n",
       "      <td>Male</td>\n",
       "      <td>0.000000</td>\n",
       "      <td>0.0</td>\n",
       "      <td>0.397959</td>\n",
       "      <td>United-States</td>\n",
       "    </tr>\n",
       "    <tr>\n",
       "      <th>4</th>\n",
       "      <td>0.150685</td>\n",
       "      <td>Private</td>\n",
       "      <td>Bachelors</td>\n",
       "      <td>0.800000</td>\n",
       "      <td>Married-civ-spouse</td>\n",
       "      <td>Prof-specialty</td>\n",
       "      <td>Wife</td>\n",
       "      <td>Black</td>\n",
       "      <td>Female</td>\n",
       "      <td>0.000000</td>\n",
       "      <td>0.0</td>\n",
       "      <td>0.397959</td>\n",
       "      <td>Cuba</td>\n",
       "    </tr>\n",
       "    <tr>\n",
       "      <th>5</th>\n",
       "      <td>0.273973</td>\n",
       "      <td>Private</td>\n",
       "      <td>Masters</td>\n",
       "      <td>0.866667</td>\n",
       "      <td>Married-civ-spouse</td>\n",
       "      <td>Exec-managerial</td>\n",
       "      <td>Wife</td>\n",
       "      <td>White</td>\n",
       "      <td>Female</td>\n",
       "      <td>0.000000</td>\n",
       "      <td>0.0</td>\n",
       "      <td>0.397959</td>\n",
       "      <td>United-States</td>\n",
       "    </tr>\n",
       "    <tr>\n",
       "      <th>6</th>\n",
       "      <td>0.438356</td>\n",
       "      <td>Private</td>\n",
       "      <td>9th</td>\n",
       "      <td>0.266667</td>\n",
       "      <td>Married-spouse-absent</td>\n",
       "      <td>Other-service</td>\n",
       "      <td>Not-in-family</td>\n",
       "      <td>Black</td>\n",
       "      <td>Female</td>\n",
       "      <td>0.000000</td>\n",
       "      <td>0.0</td>\n",
       "      <td>0.153061</td>\n",
       "      <td>Jamaica</td>\n",
       "    </tr>\n",
       "  </tbody>\n",
       "</table>\n",
       "</div>"
      ],
      "text/plain": [
       "        age          workclass education_level  education-num  \\\n",
       "0  0.301370          State-gov       Bachelors       0.800000   \n",
       "1  0.452055   Self-emp-not-inc       Bachelors       0.800000   \n",
       "2  0.287671            Private         HS-grad       0.533333   \n",
       "3  0.493151            Private            11th       0.400000   \n",
       "4  0.150685            Private       Bachelors       0.800000   \n",
       "5  0.273973            Private         Masters       0.866667   \n",
       "6  0.438356            Private             9th       0.266667   \n",
       "\n",
       "           marital-status          occupation    relationship    race  \\\n",
       "0           Never-married        Adm-clerical   Not-in-family   White   \n",
       "1      Married-civ-spouse     Exec-managerial         Husband   White   \n",
       "2                Divorced   Handlers-cleaners   Not-in-family   White   \n",
       "3      Married-civ-spouse   Handlers-cleaners         Husband   Black   \n",
       "4      Married-civ-spouse      Prof-specialty            Wife   Black   \n",
       "5      Married-civ-spouse     Exec-managerial            Wife   White   \n",
       "6   Married-spouse-absent       Other-service   Not-in-family   Black   \n",
       "\n",
       "       sex  capital-gain  capital-loss  hours-per-week  native-country  \n",
       "0     Male      0.667492           0.0        0.397959   United-States  \n",
       "1     Male      0.000000           0.0        0.122449   United-States  \n",
       "2     Male      0.000000           0.0        0.397959   United-States  \n",
       "3     Male      0.000000           0.0        0.397959   United-States  \n",
       "4   Female      0.000000           0.0        0.397959            Cuba  \n",
       "5   Female      0.000000           0.0        0.397959   United-States  \n",
       "6   Female      0.000000           0.0        0.153061         Jamaica  "
      ]
     },
     "metadata": {},
     "output_type": "display_data"
    }
   ],
   "source": [
    "from sklearn.preprocessing import MinMaxScaler \n",
    "\n",
    "# #Initiate a scaler, then apply it to the feature.\n",
    "scaler = MinMaxScaler() # default = (0, 1) # Anything relates to PCA?\n",
    "numerical = ['age', 'education-num', 'capital-gain', 'capital-loss', 'hours-per-week']\n",
    "\n",
    "features_log_minmax_transform = pd.DataFrame(data = features_log_transformed)\n",
    "features_log_minmax_transform[numerical] = scaler.fit_transform(features_log_transformed[numerical])\n",
    " \n",
    "display(features_log_minmax_transform.head(n=7))"
   ]
  },
  {
   "cell_type": "markdown",
   "metadata": {},
   "source": [
    "### 3. Implementation: Data Preprocessing\n",
    " - From non-numeric to numeric;\n",
    " - Use 'one-hot encoding' on 'features_raw';\n",
    " - Convert 'incomea_raw' to numerical entries. "
   ]
  },
  {
   "cell_type": "code",
   "execution_count": 17,
   "metadata": {},
   "outputs": [
    {
     "name": "stdout",
     "output_type": "stream",
     "text": [
      "103 total features after one-hot encoding.\n",
      "['age', 'education-num', 'capital-gain', 'capital-loss', 'hours-per-week', 'workclass_ Federal-gov', 'workclass_ Local-gov', 'workclass_ Private', 'workclass_ Self-emp-inc', 'workclass_ Self-emp-not-inc', 'workclass_ State-gov', 'workclass_ Without-pay', 'education_level_ 10th', 'education_level_ 11th', 'education_level_ 12th', 'education_level_ 1st-4th', 'education_level_ 5th-6th', 'education_level_ 7th-8th', 'education_level_ 9th', 'education_level_ Assoc-acdm', 'education_level_ Assoc-voc', 'education_level_ Bachelors', 'education_level_ Doctorate', 'education_level_ HS-grad', 'education_level_ Masters', 'education_level_ Preschool', 'education_level_ Prof-school', 'education_level_ Some-college', 'marital-status_ Divorced', 'marital-status_ Married-AF-spouse', 'marital-status_ Married-civ-spouse', 'marital-status_ Married-spouse-absent', 'marital-status_ Never-married', 'marital-status_ Separated', 'marital-status_ Widowed', 'occupation_ Adm-clerical', 'occupation_ Armed-Forces', 'occupation_ Craft-repair', 'occupation_ Exec-managerial', 'occupation_ Farming-fishing', 'occupation_ Handlers-cleaners', 'occupation_ Machine-op-inspct', 'occupation_ Other-service', 'occupation_ Priv-house-serv', 'occupation_ Prof-specialty', 'occupation_ Protective-serv', 'occupation_ Sales', 'occupation_ Tech-support', 'occupation_ Transport-moving', 'relationship_ Husband', 'relationship_ Not-in-family', 'relationship_ Other-relative', 'relationship_ Own-child', 'relationship_ Unmarried', 'relationship_ Wife', 'race_ Amer-Indian-Eskimo', 'race_ Asian-Pac-Islander', 'race_ Black', 'race_ Other', 'race_ White', 'sex_ Female', 'sex_ Male', 'native-country_ Cambodia', 'native-country_ Canada', 'native-country_ China', 'native-country_ Columbia', 'native-country_ Cuba', 'native-country_ Dominican-Republic', 'native-country_ Ecuador', 'native-country_ El-Salvador', 'native-country_ England', 'native-country_ France', 'native-country_ Germany', 'native-country_ Greece', 'native-country_ Guatemala', 'native-country_ Haiti', 'native-country_ Holand-Netherlands', 'native-country_ Honduras', 'native-country_ Hong', 'native-country_ Hungary', 'native-country_ India', 'native-country_ Iran', 'native-country_ Ireland', 'native-country_ Italy', 'native-country_ Jamaica', 'native-country_ Japan', 'native-country_ Laos', 'native-country_ Mexico', 'native-country_ Nicaragua', 'native-country_ Outlying-US(Guam-USVI-etc)', 'native-country_ Peru', 'native-country_ Philippines', 'native-country_ Poland', 'native-country_ Portugal', 'native-country_ Puerto-Rico', 'native-country_ Scotland', 'native-country_ South', 'native-country_ Taiwan', 'native-country_ Thailand', 'native-country_ Trinadad&Tobago', 'native-country_ United-States', 'native-country_ Vietnam', 'native-country_ Yugoslavia']\n"
     ]
    }
   ],
   "source": [
    "features_final = pd.get_dummies(features_log_minmax_transform)\n",
    "\n",
    "income = income_raw.map({'<=50K':0, '>50K':1})\n",
    "# 0:0, 1:1 means \n",
    "\n",
    "encoded = list(features_final.columns)\n",
    "print \"{} total features after one-hot encoding.\".format(len(encoded))\n",
    "\n",
    "print encoded\n",
    "# features_final.shape"
   ]
  },
  {
   "cell_type": "markdown",
   "metadata": {},
   "source": [
    "### 4. Shuffle and split data\n",
    " - All categorical variables've been converted into numerical features;\n",
    " - All numerical features've been normalized."
   ]
  },
  {
   "cell_type": "code",
   "execution_count": 26,
   "metadata": {},
   "outputs": [
    {
     "name": "stdout",
     "output_type": "stream",
     "text": [
      "Training set has 36177 samples.\n",
      "Testing set has 9045 samples.\n"
     ]
    }
   ],
   "source": [
    "\n",
    "from sklearn.cross_validation import train_test_split\n",
    "\n",
    "X_train, X_test, y_train, y_test = train_test_split(features_final, income, test_size = 0.2, random_state = 42)\n",
    "\n",
    "print \"Training set has {} samples.\".format(X_train.shape[0])\n",
    "print \"Testing set has {} samples.\".format(X_test.shape[0])\n",
    "\n",
    "# display(X_train)\n",
    "# display(X_test)"
   ]
  },
  {
   "cell_type": "markdown",
   "metadata": {
    "collapsed": true
   },
   "source": [
    "----\n",
    "## Evaluating Model Performance"
   ]
  },
  {
   "cell_type": "markdown",
   "metadata": {},
   "source": [
    "### 1. Metrics and Naive Predictor\n",
    " - Tools: Fbeta, accuracy, precision, recall;\n",
    " - '>50K' are more likely to donate;\n",
    " - So, this project is working on predicting '>50K' accurately;\n",
    " - Metric: accuracy;\n",
    " - If identify '>50K' as '<=50K', it's detrimental;\n",
    " - So, 'recall' is less important here;\n",
    "      - **Positive**: classified as '>50K';\n",
    "      - **Negative**: classified as '<=50K';\n",
    "      - **True Positive**: successfully classified as '>50K';\n",
    "      - **False Positive**: mistakenly classified as '>50K';\n",
    "      - **True Negative**: successfully classified as '<=50K';\n",
    "      - **False Negative**: mistakenly classified as '<=50K'\n",
    " - Use 'F beta score' to include both recall and precision;\n",
    " - Most samples are '<=50K';\n",
    " - Naive statement: arbitrarily say everyone is '<=50K' without looking data, the prediciton won't be too bad;\n",
    "     "
   ]
  },
  {
   "cell_type": "markdown",
   "metadata": {},
   "source": [
    "### Question 1 - Naive Predictor Performance "
   ]
  },
  {
   "cell_type": "code",
   "execution_count": 19,
   "metadata": {},
   "outputs": [
    {
     "name": "stdout",
     "output_type": "stream",
     "text": [
      "Naive predictor: [Accuracy score: 0.2478, F-score: 0.2917] \n"
     ]
    }
   ],
   "source": [
    "\n",
    "beta = 0.5\n",
    "\n",
    "accuracy = greater_percent/100\n",
    "\n",
    "TP = n_greater_50K\n",
    "TN = 0\n",
    "FP = n_at_most_50K\n",
    "FN = 0\n",
    "\n",
    "recall = float(TP) / float((TP + FN))\n",
    "precision = float(TP) / float((TP + FP))\n",
    "\n",
    "f_score = (1 + 0.5**2) * ((precision * recall)/(0.5**2 * (precision * recall) + 1))\n",
    "\n",
    "\n",
    "print \"Naive predictor: [Accuracy score: {:.4f}, F-score: {:.4f}] \".format(accuracy, f_score)"
   ]
  },
  {
   "cell_type": "markdown",
   "metadata": {},
   "source": [
    "### 2. Supervised Learning Models\n",
    " - Decision Trees\n",
    " - Support Vector Machines (SVM)\n",
    " - Ensemble Methods (Random Forest)"
   ]
  },
  {
   "cell_type": "markdown",
   "metadata": {},
   "source": [
    "### Question 2 - Model Application"
   ]
  },
  {
   "cell_type": "markdown",
   "metadata": {},
   "source": [
    "#### Model 1: Decision Tree\n",
    " - Application:  \n",
    " \n",
    "     This algorithm has been widely used in advertiment industry that classifies data. \n",
    " The companies such as Amazon, Youtube Google will send my related news, products, videos according to gender, age, area, nationality, browsing history, the most clicked items, etc. They're no longer spams, and they quitely got my attentions sometimes. \n",
    " \n",
    " \n",
    "\n",
    " - Strength:\n",
    " \n",
    " It requires little data preparation, unlike other techniques which need data normalization \n",
    " (http://scikit-learn.org/stable/modules/tree.html).\n",
    " It is easy to understand, visualised interpret \n",
    " (http://scikit-learn.org/stable/modules/tree.html).\n",
    " It is easy to deal with both numerical and categorical data \n",
    " (http://scikit-learn.org/stable/modules/tree.html).\n",
    "\n",
    " \n",
    " \n",
    " - Weakness:\n",
    " \n",
    "  It would casue overfitting problems when minimum number required at a leaf node or maximum depth of the tree are not setting well (http://scikit-learn.org/stable/modules/tree.html).\n",
    " Results of the algorithm is unstable when there are small variations in data (http://scikit-learn.org/stable/modules/tree.html).\n",
    " It would create biased trees if some classes dominate (http://scikit-learn.org/stable/modules/tree.html).\n",
    " \n",
    "\n",
    " - Why this one:\n",
    " \n",
    "  Decision tree allows to med do non-linear decision making with simple linear decision surface;\n",
    "  Decision tree will find out the most important features and seprate data wisely;\n",
    "  This data set is really fit in this scenario, a classification problem with many features;\n",
    "  So, I give decision tree a shot. \n"
   ]
  },
  {
   "cell_type": "markdown",
   "metadata": {},
   "source": [
    "#### Model 2: SVM\n",
    " - Application:\n",
    " \n",
    " Classification of images and recognition of hand-written characters will need SVM algorithm, \n",
    " becuase it can increase accuracy significantly, according to the wikipedia\n",
    " (https://en.wikipedia.org/wiki/Support_vector_machine). \n",
    " \n",
    " \n",
    " - Strength:\n",
    " \n",
    " It is effective in high dimensional spaces, especially when there are many features (http://scikit-learn.org/stable/modules/svm.html#svm-classification).\n",
    " It is memory efficient because it uses subset of training points in decision funcitons (http://scikit-learn.org/stable/modules/svm.html#svm-classification).\n",
    " It can use hyperplane to separate data points of different classes by manunly changing hyper-parameters.\n",
    "\n",
    "\n",
    " - Weakness:\n",
    " \n",
    " It is time-consuming;\n",
    " It may cause overfitting problems with wrong hyper-parameters;\n",
    " It does not provide probabilitistic estimates. \n",
    "\n",
    "\n",
    " \n",
    " - Why this one:\n",
    " Because SVM can do really in complicated domains where thre is clear margin of seperation. \n",
    " Many features in this data set can create a clear margin of seperation. \n",
    " "
   ]
  },
  {
   "cell_type": "markdown",
   "metadata": {},
   "source": [
    "#### Model 3: Random Forest\n",
    " - Application:\n",
    " \n",
    " It can be used in voices and images classification.\n",
    " \n",
    " \n",
    " - Strength:\n",
    " \n",
    " It can correct decision trees' habit of overfitting to their training set (https://en.wikipedia.org/wiki/Random_forest).\n",
    " It can automatically select featuers and output importance. \n",
    "\n",
    " \n",
    " \n",
    " - Weakness:\n",
    " \n",
    " It is less interpretable. \n",
    " \n",
    " \n",
    " - Why this one:\n",
    " \n",
    " This dataset has multiple features;\n",
    " Random Forest works well with a mixture of numerical and categorical features\n",
    " https://datascience.stackexchange.com/questions/6838/when-to-use-random-forest-over-svm-and-vice-versa.\n"
   ]
  },
  {
   "cell_type": "markdown",
   "metadata": {},
   "source": [
    "### 3. Implementation - Creating a Training and Predicting Pipeline\n",
    " - 1.Import \"fbeta_score\" and \"accuracy_score\" from sklearn.metrics;\n",
    " - 2.Fit the learner to the sampled training data and record the training time;\n",
    " - 3.Perform predictions on the test data: X_test, and also on the first 300 training points X_train[:300].\n",
    " - 4.Record the total prediciton time.\n",
    " - 5.Calculate the accuracy_score for both training subset and testing subset.\n",
    " - 6.Calculate the F-score for both training subset and testing subset, with beta parameter."
   ]
  },
  {
   "cell_type": "code",
   "execution_count": 20,
   "metadata": {
    "collapsed": true
   },
   "outputs": [],
   "source": [
    "from sklearn.metrics import fbeta_score \n",
    "from sklearn.metrics import accuracy_score \n",
    "from time import time\n",
    "\n",
    "\n",
    "def train_predict(learner, sample_size, X_train, y_train, X_test, y_test):\n",
    "                 #learner is algorithms\n",
    "    \n",
    "    results = {}\n",
    "    X_train = X_train[:300] # Slice features training data\n",
    "    y_train = y_train[:300] # Slice income(target) training data\n",
    "    \n",
    "    start = time()\n",
    "    learner.fit(X_train, y_train) # Fit the learner to the sampled training data.\n",
    "    end = time()\n",
    "    results['train_time'] = end - start # Calculate the training time.\n",
    "    \n",
    "    start = time()\n",
    "    pred_test = learner.predict(X_test) # Get predictions on test set(X_test)\n",
    "    pred_train = learner.predict(X_train) # Get predictions on first 300 samples(X_train) \n",
    "    end = time()\n",
    "    results['pred_time'] = end - start # Calculate the total prediction time\n",
    "    \n",
    "    results['acc_train'] = accuracy_score(y_train, pred_train) # Calculate the accuracy on first 300 training set\n",
    "    results['acc_test'] = accuracy_score( y_test, pred_test) # Calculate the accuracy on testing set\n",
    "    \n",
    "    results['f_train'] = fbeta_score(y_train, pred_train, beta = 0.5) \n",
    "    results['f_test'] = fbeta_score(y_test, pred_test, beta = 0.5)\n",
    "    \n",
    "    print \"{} trained on {} samples.\".format(learner.__class__.__name__, sample_size)\n",
    "    \n",
    "    return results\n"
   ]
  },
  {
   "cell_type": "markdown",
   "metadata": {},
   "source": [
    "### 4. Implementation: Initial Model Evaluation\n",
    " - 1.Import my algorithms.\n",
    " - 2.Initialize the three models and store them in 'clf_A', 'clf_B', 'clf_C'.\n",
    " - 3.If there is \"ramdom state\", use it.\n",
    " - 4.Calculate number of records equal to 1%, 10%, and 100% of the training data.\n",
    " - 5.Store those values in 'sample_1', 'sample_10', 'sample_100' respectively"
   ]
  },
  {
   "cell_type": "code",
   "execution_count": 27,
   "metadata": {},
   "outputs": [
    {
     "name": "stdout",
     "output_type": "stream",
     "text": [
      "SVC trained on 361 samples.\n",
      "SVC trained on 3617 samples.\n",
      "SVC trained on 36177 samples.\n",
      "DecisionTreeClassifier trained on 361 samples.\n",
      "DecisionTreeClassifier trained on 3617 samples.\n",
      "DecisionTreeClassifier trained on 36177 samples.\n",
      "RandomForestClassifier trained on 361 samples.\n",
      "RandomForestClassifier trained on 3617 samples.\n",
      "RandomForestClassifier trained on 36177 samples.\n"
     ]
    },
    {
     "data": {
      "image/png": "[encoded data removed]",
      "text/plain": [
       "<matplotlib.figure.Figure at 0x121a717d0>"
      ]
     },
     "metadata": {},
     "output_type": "display_data"
    }
   ],
   "source": [
    "from sklearn.svm import SVC\n",
    "from sklearn import tree\n",
    "from sklearn.ensemble import RandomForestClassifier \n",
    "\n",
    "clf_A = SVC(random_state = 101)\n",
    "clf_B = tree.DecisionTreeClassifier(random_state = 42)\n",
    "clf_C = RandomForestClassifier(random_state = 42)\n",
    "\n",
    "samples_100 = len(y_train)\n",
    "samples_10 = int(0.1*len(y_train))\n",
    "samples_1 = int(0.01*len(y_train))\n",
    "\n",
    "# # Collect results on learner\n",
    "results = {}\n",
    "for clf in [clf_A, clf_B, clf_C]:\n",
    "    clf_name = clf.__class__.__name__\n",
    "    results[clf_name] = {}\n",
    "    for i, samples in enumerate([samples_1, samples_10, samples_100]):\n",
    "\n",
    "        results[clf_name][i] = \\\n",
    "        train_predict(clf, samples, X_train, y_train, X_test, y_test)\n",
    "\n",
    "\n",
    "vs.evaluate(results, accuracy, f_score)\n"
   ]
  },
  {
   "cell_type": "markdown",
   "metadata": {},
   "source": []
  },
  {
   "cell_type": "markdown",
   "metadata": {
    "collapsed": true
   },
   "source": [
    "---\n",
    "## Improving results"
   ]
  },
  {
   "cell_type": "markdown",
   "metadata": {},
   "source": [
    "### Question 3 - Choosing the best model\n",
    "   I'll choose RandomForest Classifier;\n",
    "   It has a rougly 0.8 accuray on test set, a 0.6 Fbeta score, a quick model predicting time though the training time relatively slow; \n",
    "   It fits classification problems well. "
   ]
  },
  {
   "cell_type": "markdown",
   "metadata": {},
   "source": [
    "### Question 4 - Describing the Model in Layman's Terms\n",
    "\n",
    " - Random forest is built upon many decision trees. \n",
    " - Think about decision trees firstly. \n",
    " - Now, there a data set in my hand, more than 50,000 people with occupations, education and ten more infomation of them, but income information is hidden;\n",
    " - I want to make a guess on whether the person makes more than 50K;\n",
    " - Decision trees will look at the features and split the data based on the most important features. (Because the equation behind decision tree can find out the most important features.)\n",
    " - A decision tree will firstly consider whether the person has a 'capital-loss'.\n",
    " - Given yes, we may nee to check age; \n",
    " - Given age is old enough, we keep checking other features. \n",
    " - The process is like a oounter tree, and each of its branch is like this:\n",
    " - A small 'capital-loss'? Yes, a  relatively older 'age'? Yes, a higher 'capital-gain'? Yes, a big 'hour-per-week'? Yes, a good 'education-num'? Yes. Then, we might assume this person makes more than 50K.\n",
    " \n",
    " \n",
    " - Random forest uses a lot of decision trees, where each tree a little bit different from the others. \n",
    " - When we nee to predict a new person's income, we take the majority vote of the decision tree to reach a final result.\n",
    " \n",
    " - Reference: https://www.quora.com/How-do-you-explain-decision-tree-and-random-forests-in-layman%E2%80%99s-terms\n"
   ]
  },
  {
   "cell_type": "markdown",
   "metadata": {},
   "source": [
    "### 1. Implementation: Model Tuning\n",
    " - 1.Use grid search with at least one important parameter tunned with at least 3 different values;\n",
    " - 2.Import gridsearch and make_scorer;\n",
    " - 3.Initialize the classifier I've chosen and store it in clf;\n",
    "      - Set a random_state;\n",
    " - 4.Create a dictionary of paremeters;\n",
    "      - Parameters = {'parameter': [list of values] \n",
    "      - Don't tune max_features;\n",
    " - 5.Use make_score to create an fbeta_score scoring object;\n",
    " - 6.Perform gridsearch on the clf using the 'scorer' and store it in grid_obj;\n",
    " - 7.Grid_fit(X_train, y_train)"
   ]
  },
  {
   "cell_type": "code",
   "execution_count": 28,
   "metadata": {},
   "outputs": [
    {
     "name": "stdout",
     "output_type": "stream",
     "text": [
      "Unoptimized model\n",
      "------\n",
      "Accuracy score on testing data: 0.8407\n",
      "F-score on testing data: 0.6943\n",
      "\n",
      "Optimized Model\n",
      "------\n",
      "Final accuracy score on the testing data: 0.8600\n",
      "Final F-score on the testing data: 0.7446\n"
     ]
    }
   ],
   "source": [
    "from sklearn.model_selection import GridSearchCV\n",
    "from sklearn.metrics import make_scorer\n",
    "\n",
    "clf = RandomForestClassifier(random_state = 42)\n",
    "\n",
    "parameters = {'min_samples_split':[2, 20, 50]}\n",
    "\n",
    "scorer = make_scorer(fbeta_score, beta=0.5)\n",
    "# reference: http://scikit-learn.org/stable/modules/generated/sklearn.metrics.make_scorer.html\n",
    "\n",
    "grid_obj = GridSearchCV(clf, parameters)\n",
    "\n",
    "grid_fit = grid_obj.fit(X_train, y_train)\n",
    "            \n",
    "\n",
    "best_clf = grid_fit.best_estimator_\n",
    "\n",
    "predictions = (clf.fit(X_train, y_train)).predict(X_test)\n",
    "\n",
    "best_predictions = best_clf.predict(X_test)\n",
    "\n",
    "\n",
    "# Report the before-and-afterscores\n",
    "print \"Unoptimized model\\n------\"\n",
    "print \"Accuracy score on testing data: {:.4f}\".format(accuracy_score(y_test, predictions))\n",
    "print \"F-score on testing data: {:.4f}\".format(fbeta_score(y_test, predictions, beta = 0.5))\n",
    "print \"\\nOptimized Model\\n------\"\n",
    "print \"Final accuracy score on the testing data: {:.4f}\".format(accuracy_score(y_test, best_predictions))\n",
    "print \"Final F-score on the testing data: {:.4f}\".format(fbeta_score(y_test, best_predictions, beta = 0.5))\n"
   ]
  },
  {
   "cell_type": "markdown",
   "metadata": {},
   "source": [
    "### Question 5 - Final Model Evaluation\n",
    "\n",
    "#### Results:\n",
    "\n",
    "|     Metric     | Unoptimized Model | Optimized Model |\n",
    "| :------------: | :---------------: | :-------------: | \n",
    "| Accuracy Score |      0.8407       |     0.8600      |\n",
    "| F-score        |      0.6943       |     0.7446      |\n",
    "\n",
    " - The scores are better after optimized. \n",
    " - The score of naive predictor is 0.2478, but the optimized is 0.8603, huge difference. \n"
   ]
  },
  {
   "cell_type": "markdown",
   "metadata": {},
   "source": [
    "---\n",
    "## Feature Importance"
   ]
  },
  {
   "cell_type": "markdown",
   "metadata": {
    "collapsed": true
   },
   "source": [
    "  - Which feature provides the most predictive power?\n",
    "  - In this project, we wish to identify a small number of project that most correlated"
   ]
  },
  {
   "cell_type": "code",
   "execution_count": 71,
   "metadata": {
    "collapsed": true
   },
   "outputs": [],
   "source": [
    "# features_final.corr() we got categorical features, so couldn't apply this. "
   ]
  },
  {
   "cell_type": "markdown",
   "metadata": {},
   "source": [
    "### Question 6 - Feature Relevance Observation\n",
    " - 1.Occupation; this is where income come from;\n",
    " - 2.Capital gain; extra money make people generous sometimes;\n",
    " - 3.Education level; this indirectly correlaed with inome;\n",
    " - 4.Education num; this also may indirectly correlated with income;\n",
    " - 5.Age; the younger are usually poorer; the older are usually richer;\n",
    " "
   ]
  },
  {
   "cell_type": "code",
   "execution_count": 29,
   "metadata": {},
   "outputs": [
    {
     "data": {
      "image/png": "[encoded data removed]",
      "text/plain": [
       "<matplotlib.figure.Figure at 0x1196bae50>"
      ]
     },
     "metadata": {},
     "output_type": "display_data"
    }
   ],
   "source": [
    "from sklearn.ensemble import AdaBoostClassifier\n",
    "\n",
    "model = AdaBoostClassifier().fit(X_train, y_train)\n",
    "                        # ()\n",
    "\n",
    "importances = model.feature_importances_\n",
    "\n",
    "vs.feature_plot(importances, X_train, y_train)"
   ]
  },
  {
   "cell_type": "markdown",
   "metadata": {},
   "source": [
    "### Question 7 - Extracting Feature Importance\n",
    " - 1.Capital loss；\n",
    " - 2.Age;\n",
    " - 3.Capital gain;\n",
    " - 4.House per week;\n",
    " - 5.Education num;\n",
    " \n",
    " \n",
    " - Well, there are differences, but I got 3 right.\n",
    " - What I missed are: capital loss and hours per week.\n",
    " - About capital loss, I checked the dataset and found out most of them are 0, so I thought this feature probably wasn't that important;\n",
    " - About hour per week, I assumed that hours per week wasn't as useful as dollars per hour, because I believed someone worked less but earned a lot and someone was vice versa, so I ignored this feature;\n",
    " - It turned out that they two matter. \n",
    " - The importance of the feature are ranked by the height of the coloums. \n",
    " - Three of my features are ranked in the top five important features. "
   ]
  },
  {
   "cell_type": "markdown",
   "metadata": {},
   "source": [
    "### 1. Feature selection"
   ]
  },
  {
   "cell_type": "code",
   "execution_count": 30,
   "metadata": {},
   "outputs": [
    {
     "name": "stdout",
     "output_type": "stream",
     "text": [
      "Final Model trained on full data\n",
      "------\n",
      "Accuracy on testing data: 0.8600\n",
      "F-score on testing data: 0.7446\n",
      "\n",
      "Final Model trained on reduced data\n",
      "------\n",
      "Accuracy on testing data: 0.8302\n",
      "F-score on testing data: 0.6828\n"
     ]
    }
   ],
   "source": [
    "# Import functionality for cloning a model\n",
    "from sklearn.base import clone\n",
    "\n",
    "# Reduce the feature space\n",
    "X_train_reduced = X_train[X_train.columns.values[(np.argsort(importances)[::-1])[:5]]]\n",
    "X_test_reduced = X_test[X_test.columns.values[(np.argsort(importances)[::-1])[:5]]]\n",
    "\n",
    "# Train on the \"best\" model found from grid search earlier\n",
    "clf = (clone(best_clf)).fit(X_train_reduced, y_train)\n",
    "\n",
    "# Make new predictions\n",
    "reduced_predictions = clf.predict(X_test_reduced)\n",
    "\n",
    "# Report scores from the final model using both versions of data\n",
    "print \"Final Model trained on full data\\n------\"\n",
    "print \"Accuracy on testing data: {:.4f}\".format(accuracy_score(y_test, best_predictions))\n",
    "print \"F-score on testing data: {:.4f}\".format(fbeta_score(y_test, best_predictions, beta = 0.5))\n",
    "print \"\\nFinal Model trained on reduced data\\n------\"\n",
    "print \"Accuracy on testing data: {:.4f}\".format(accuracy_score(y_test, reduced_predictions))\n",
    "print \"F-score on testing data: {:.4f}\".format(fbeta_score(y_test, reduced_predictions, beta = 0.5))"
   ]
  },
  {
   "cell_type": "markdown",
   "metadata": {},
   "source": [
    "### Question 8 - Effects of Feature Selection\n",
    " - Unexpectedly, the accuracy socre and F score drop. \n",
    " - If training time was a factor, I might consider using the reduced data as my training set;\n",
    " - Time is costly sometimes, and 0.86 and 0.829 are not significantly different, so I'll choose a qucker way.  "
   ]
  }
 ],
 "metadata": {
  "kernelspec": {
   "display_name": "Python 2",
   "language": "python",
   "name": "python2"
  },
  "language_info": {
   "codemirror_mode": {
    "name": "ipython",
    "version": 2
   },
   "file_extension": ".py",
   "mimetype": "text/x-python",
   "name": "python",
   "nbconvert_exporter": "python",
   "pygments_lexer": "ipython2",
   "version": "2.7.13"
  }
 },
 "nbformat": 4,
 "nbformat_minor": 2
}
